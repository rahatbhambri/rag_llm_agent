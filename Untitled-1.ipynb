{
 "cells": [
  {
   "cell_type": "code",
   "execution_count": 1,
   "metadata": {},
   "outputs": [
    {
     "name": "stderr",
     "output_type": "stream",
     "text": [
      "c:\\Users\\rahat\\OneDrive\\Desktop\\proj\\rag_langchain\\rag_venv\\Lib\\site-packages\\tqdm\\auto.py:21: TqdmWarning: IProgress not found. Please update jupyter and ipywidgets. See https://ipywidgets.readthedocs.io/en/stable/user_install.html\n",
      "  from .autonotebook import tqdm as notebook_tqdm\n"
     ]
    }
   ],
   "source": [
    "import openai, langchain, os\n",
    "from langchain_community.document_loaders import PyPDFDirectoryLoader\n",
    "from langchain.text_splitter import RecursiveCharacterTextSplitter \n",
    "from langchain_community.embeddings import SentenceTransformerEmbeddings\n",
    "from pinecone import Pinecone, ServerlessSpec\n",
    "from langchain_pinecone import PineconeVectorStore\n",
    "from langchain_community.llms import OpenAI \n",
    "from dotenv import load_dotenv \n",
    "from sentence_transformers import SentenceTransformer  "
   ]
  },
  {
   "cell_type": "code",
   "execution_count": 2,
   "metadata": {},
   "outputs": [
    {
     "name": "stderr",
     "output_type": "stream",
     "text": [
      "C:\\Users\\rahat\\AppData\\Local\\Temp\\ipykernel_26452\\2555385938.py:2: LangChainDeprecationWarning: The class `HuggingFaceEmbeddings` was deprecated in LangChain 0.2.2 and will be removed in 1.0. An updated version of the class exists in the :class:`~langchain-huggingface package and should be used instead. To use it run `pip install -U :class:`~langchain-huggingface` and import as `from :class:`~langchain_huggingface import HuggingFaceEmbeddings``.\n",
      "  embeddings = SentenceTransformerEmbeddings(model_name='paraphrase-MiniLM-L3-v2')\n"
     ]
    },
    {
     "data": {
      "text/plain": [
       "False"
      ]
     },
     "execution_count": 2,
     "metadata": {},
     "output_type": "execute_result"
    }
   ],
   "source": [
    "model = SentenceTransformer('paraphrase-MiniLM-L3-v2')\n",
    "embeddings = SentenceTransformerEmbeddings(model_name='paraphrase-MiniLM-L3-v2')\n",
    "\n",
    "load_dotenv()\n"
   ]
  },
  {
   "cell_type": "code",
   "execution_count": 3,
   "metadata": {},
   "outputs": [],
   "source": [
    "from langchain.document_loaders import DirectoryLoader, TextLoader, CSVLoader, UnstructuredFileLoader\n",
    "from langchain_community.document_loaders import PyPDFLoader\n",
    "from pathlib import Path\n",
    "\n",
    "def load_docs_from_directory(path):\n",
    "    def custom_loader(file_path_str):\n",
    "        file_path = Path(file_path_str)\n",
    "        ext = file_path.suffix.lower()\n",
    "\n",
    "        loader_map = {\n",
    "            \".pdf\": PyPDFLoader,\n",
    "            \".txt\": TextLoader,\n",
    "            \".csv\": CSVLoader,\n",
    "        }\n",
    "\n",
    "        loader_cls = loader_map.get(ext, UnstructuredFileLoader)\n",
    "        return loader_cls(str(file_path))\n",
    "\n",
    "    loader = DirectoryLoader(\n",
    "        path,\n",
    "        glob=\"**/*\",\n",
    "        loader_cls=custom_loader\n",
    "    )\n",
    "    documents = loader.load()\n",
    "    print(documents)\n",
    "    return documents\n",
    "\n"
   ]
  },
  {
   "cell_type": "code",
   "execution_count": 4,
   "metadata": {},
   "outputs": [],
   "source": [
    "def chunk_data(docs, chunk_size=800, chunk_overlap=50):\n",
    "    text_spliter = RecursiveCharacterTextSplitter(chunk_size=chunk_size, chunk_overlap=chunk_overlap)\n",
    "    doc = text_spliter.split_documents(docs)\n",
    "    print(type(doc), type(doc[0]), len(doc))\n",
    "    \n",
    "    return doc\n"
   ]
  },
  {
   "cell_type": "code",
   "execution_count": 5,
   "metadata": {},
   "outputs": [
    {
     "name": "stdout",
     "output_type": "stream",
     "text": [
      "[Document(metadata={'source': 'static\\\\13.txt'}, page_content='An alien called Jasper landed on Planet Mars in the year 1945.\\n\\nJasper had 3 heads and 6 legs making it almost impossible for his enemy to chase it. \\n\\n'), Document(metadata={'source': 'static\\\\20.txt'}, page_content='During friendly encounters and bonding, tigers rub against each other\\'s bodies.[97] Facial expressions include the \"defence threat\", which involves a wrinkled face, bared teeth, pulled-back ears and widened pupils.[98][47] Both males and females show a flehmen response, a characteristic curled-lip grimace, when smelling urine markings. Males also use the flehmen to detect the markings made by tigresses in oestrus.[47] Tigers will move their ears around to display the white spots, particularly during aggressive encounters and between mothers and cubs.[99] They also use their tails to signal their mood. To show cordiality, the tail sticks up and sways slowly, while an apprehensive tiger lowers its tail or wags it side-to-side. When calm, the tail hangs low.[100]\\n\\nTigers are normally silent but can produce numerous vocalisations.[101][102] They roar to signal their presence to other individuals over long distances. This vocalisation is forced through an open mouth as it closes and can be heard 3 km (1.9 mi) away. They roar multiple times in a row and others respond in kind. Tigers also roar during mating and a mother will roar to call her cubs to her. When tense, tigers moan, a sound similar to a roar but softer and made when the mouth is at least partially closed. Moaning can be heard 400 m (1,300 ft) away.[47][103] Aggressive encounters involve growling, snarling and hissing.[104] An explosive \"coughing roar\" or \"coughing snarl\" is emitted through an open mouth and exposed teeth.[47][104][99] In friendlier situations, tigers prusten, a soft, low-frequency snorting sound similar to purring in smaller cats.[105] Tiger mothers communicate with their cubs by grunting, while cubs call back with miaows.[106] When startled, they \"woof\". They produce a deer-like \"pok\" sound for unknown reasons, but most often at kills.[107][108]\\n\\nHunting and diet\\nTiger attacking a sambar deer from behind, pulling on its back\\nBengal tiger attacking a sambar deer in Ranthambore Tiger Reserve\\nThe tiger is a carnivore and an apex predator feeding mainly on large and medium-sized ungulates, with a preference for sambar deer, Manchurian wapiti, barasingha, gaur and wild boar.[109][110][111] Abundance and body weight of prey species are assumed to be the main criteria for the tiger\\'s prey selection, both inside and outside protected areas.[112] It also preys opportunistically on smaller species like monkeys, peafowl and other ground-based birds, porcupines and fish.[47][57] Occasional attacks on Asian elephants and Indian rhinoceroses have also been reported.[113] More often, tigers take the more vulnerable calves.[114] They sometimes prey on livestock and dogs in close proximity to settlements.[47] Tigers occasionally consume vegetation, fruit and minerals for dietary fibre and supplements.[115]\\n\\nTigers learn to hunt from their mothers, though the ability to hunt may be partially inborn.[116] Depending on the size of the prey, they typically kill weekly though mothers must kill more often.[54] Families hunt together when cubs are old enough.[117] They search for prey using vision and hearing.[118] A tiger will also wait at a watering hole for prey to come by, particularly during hot summer days.[119][120] It is an ambush predator and when approaching potential prey, it crouches with the head lowered and hides in foliage. It switches between creeping forward and staying still. A tiger may even doze off and can stay in the same spot for as long as a day, waiting for prey and launch an attack when the prey is close enough,[121] usually within 30 m (98 ft).[54] If the prey spots it before then, the cat does not pursue further.[119] A tiger can sprint 56 km/h (35 mph) and leap 10 m (33 ft);[122][123] it is not a long-distance runner and gives up a chase if prey outpaces it over a certain distance.[119]\\n\\nTwo tigers attacking a boar\\nTwo Bengal tigers attacking a wild boar in Kanha Tiger Reserve\\nThe tiger attacks from behind or at the sides and tries to knock the target off balance. It latches onto prey with its forelimbs, twisting and turning during the struggle and tries to pull it to the ground. The tiger generally applies a bite to the throat until its victim dies of strangulation.[47][124][125][126] It has an average bite force at the canine tips of 1234.3 newtons.[127] Holding onto the throat puts the cat out of reach of horns, antlers, tusks and hooves.[124][128] Tigers are adaptable killers and may use other methods, including ripping the throat or breaking the neck. Large prey may be disabled by a bite to the back of the hock, severing the tendon. Swipes from the large paws are capable of stunning or breaking the skull of a water buffalo.[129] They kill small prey with a bite to the back of the neck or head.[130][54] Estimates of the success rate for hunting tigers range from a low of 5% to a high of 50%. They are sometimes killed or injured by large or dangerous prey like gaur, buffalo and boar.[54]\\n\\nTigers typically move kills to a private, usually vegetated spot no further than 183 m (600 ft), though they have been recorded dragging them 549 m (1,801 ft). They are strong enough to drag the carcass of a fully grown buffalo for some distance. They rest for a while before eating and can consume as much as 50 kg (110 lb) of meat in one session, but feed on a carcass for several days, leaving little for scavengers.[131]\\n\\nCompetitors\\nPainting of dhole pack attacking a tiger\\nAn 1807 illustration of dholes attacking a tiger\\nIn much of their range, tigers share habitat with leopards and dholes. They typically dominate both of them, though with dholes it depends on their pack size. Interactions between the three predators involve chasing, stealing kills and direct killing.[132] Large dhole packs may kill tigers.[133] Tigers, leopards and dholes coexist by hunting different sized prey.[134] In Nagarhole National Park, the average weight for tiger kills was found to be 91.5 kg (202 lb), compared to 37.6 kg (83 lb) for leopards and 43.4 kg (96 lb) for dholes.[135] In Kui Buri National Park, following a reduction in prey numbers, tigers continued to kill favoured prey while leopards and dholes increased their consumption of small prey.[110]\\n\\nBoth leopards and dholes can live successfully in tiger habitat when there is abundant food and vegetation cover.[134][136] Otherwise, they appear to be less common where tigers are numerous. The recovery of the tiger population in Rajaji National Park during the 2000s led to a reduction in leopard population densities.[137] Similarly, at two sites in central India the size of dhole packs was negatively correlated with tiger densities.[138] Leopard and dhole distribution in Kui Buri correlated with both prey access and tiger scarcity.[139] In Jigme Dorji National Park, tigers were found to inhabit the deeper parts of forests while the smaller predators were pushed closer to the fringes.[140]\\n\\nReproduction and life cycle\\n\"Tiger cub\" redirects here. For other uses, see Tiger Cub.\\nTiger with cubs\\nA Bengal tiger family in Kanha Tiger Reserve\\nThe tiger generally mates all year round, particularly between November and April. A tigress is in oestrus for three to six days at a time, separated by three to nine week intervals.[47] A resident male mates with all the females within his home range, who signal their receptiveness by roaring and marking.[141][142] Younger, transient males are also attracted, leading to a fight in which the more dominant, resident male drives the usurper off.[143][141] During courtship, the male is cautious with the female as he waits for her to show signs she is ready to mate. She signals to him by positioning herself in lordosis with her tail to the side. Copulation typically lasts no more than 20 seconds, with the male biting the female by the scruff of her neck. After it is finished, the male quickly pulls away as the female may turn and slap him.[141] Tiger pairs may stay together for up to four days and mate multiple times.[144] Gestation lasts around or over three months.[47]\\n\\nA tigress gives birth in a secluded location, be it in dense vegetation, in a cave or under a rocky shelter.[145] Litters consist of as many as seven cubs, but two or three are more typical.[143][145] Newborn cubs weigh 785â€“1,610 g (27.7â€“56.8 oz) and are blind and altricial.[145] The mother licks and cleans her cubs, suckles them and viciously defends them from any potential threat.[143] Cubs open their eyes at the age of three to 14 days and their vision becomes clear after a few more weeks.[145] They can leave the denning site after two months and around the same time they start eating meat.[143][146] The mother only leaves them alone to hunt and even then she does not travel far.[147] When she suspects an area is no longer safe, she moves her cubs to a new spot, transporting them one by one by grabbing them by the scruff of the neck with her mouth.[148] A tigress in Sikhote-Alin Biosphere Reserve maximised the time spent with her cubs by reducing her home range, killing larger prey and returning to her den more rapidly than without cubs; when the cubs started to eat meat, she took them to kill sites, thereby optimising their protection and access to food.[149] In the same reserve, one of 21 cubs died in over eight years of monitoring and mortality did not differ between male and female juveniles.[150] Tiger monitoring over six years in Ranthambore Tiger Reserve indicated an average annual survival rate of around 85 percent for 74 male and female cubs; survival rate increased to 97 percent for both males and female juveniles of one to two years of age.[151] Causes of cub mortality include predators, floods, fires, death of the mother and fatal injuries.[148][152][153][151]\\n\\nTigress with cub in snow\\nA Siberian tigress with her cub at Buffalo Zoo\\nAfter around two months, the cubs are able to follow their mother. They still hide in vegetation when she goes hunting. Young bond through play fighting and practice stalking. A hierarchy develops in the litter, with the biggest cub, often a male, being the most dominant and the first to eat its fill at a kill.[154] Around the age of six months, cubs are fully weaned and have more freedom to explore their environment. Between eight and ten months, they accompany their mother on hunts.[117] A cub can make a kill as early as 11 months and reach independence as a juvenile of 18 to 24 months of age; males become independent earlier than females.[155][151] Radio-collared tigers in Chitwan started leaving their natal areas at the age of 19 months.[89] Young females are sexually mature at three to four years, whereas males are at four to five years.[47] Generation length of the tiger is about 7â€“10 years.[156] Wild Bengal tigers live 12â€“15 years.[157] Data from the International Tiger Studbook 1938â€“2018 indicate that captive tigers lived up to 19 years.[158]\\n\\nThe father does not play a role in raising the young, but he encounters and interacts with them. The resident male appears to visit the femaleâ€“cub families within his home range. They socialise and even share kills.[159][160] One male was recorded looking after cubs whose mother had died.[161] By defending his home range, the male protects the females and cubs from other males.[162] When a new male takes over, dependent cubs are at risk of infanticide as the male attempts to sire his own young with the females.[163] A seven-year long study in Chitwan National Park revealed that 12 of 56 detected cubs and juveniles were killed by new males taking over home ranges.[153]\\n\\nHealth and diseases\\nTigers are recorded as hosts for various parasites including tapeworms like Diphyllobothrium erinacei, Taenia pisiformis in India and nematodes like Toxocara species in India and Physaloptera preputialis, Dirofilaria ursi and Uiteinarta species in Siberia.[47] Canine distemper is known to occur in Siberian tigers.[164] A morbillivirus infection was the likely cause of death of a tigress in the Russian Far East that was also tested positive for feline panleukopenia and feline coronavirus.[165] Blood samples from 11 adult tigers in Nepal showed antibodies for canine parvovirus-2, feline herpesvirus, feline coronavirus, leptospirosis and Toxoplasma gondii.[166]\\n\\nThreats\\nThe tiger has been listed as Endangered on the IUCN Red List since 1986 and the global tiger population is thought to have continuously declined from an estimated population of 5,000â€“8,262 tigers in the late 1990s to 3,726â€“5,578 individuals estimated as of 2022.[1] During 2001â€“2020, landscapes where tigers live declined from 1,025,488 km2 (395,943 sq mi) to 911,901 km2 (352,087 sq mi).[65] Habitat destruction, habitat fragmentation and poaching for fur and body parts are the major threats that contributed to the decrease of tiger populations in all range countries.[1]\\n\\nProtected areas in central India are highly fragmented due to linear infrastructure like roads, railway lines, transmission lines, irrigation channels and mining activities in their vicinity.[167] In the Tanintharyi Region of southern Myanmar, deforestation coupled with mining activities and high hunting pressure threatens the tiger population.[168] In Thailand, nine of 15 protected areas hosting tigers are isolated and fragmented, offering a low probability for dispersal between them; four of these have not harboured tigers since about 2013.[169] In Peninsular Malaysia, 8,315.7 km2 (3,210.7 sq mi) of tiger habitat was cleared during 1988â€“2012, most of it for industrial plantations.[170] Large-scale land acquisitions of about 23,000 km2 (8,900 sq mi) for commercial agriculture and timber extraction in Cambodia contributed to the fragmentation of potential tiger habitat, especially in the Eastern Plains.[171] Inbreeding depression coupled with habitat destruction, insufficient prey resources and poaching is a threat to the small and isolated tiger population in the Changbai Mountains along the Chinaâ€“Russia border.[172] In China, tigers became the target of large-scale \\'anti-pest\\' campaigns in the early 1950s, where suitable habitats were fragmented following deforestation and resettlement of people to rural areas, who hunted tigers and prey species. Though tiger hunting was prohibited in 1977, the population continued to decline and is considered extinct in South China since 2001.[173][174]'), Document(metadata={'source': 'static\\\\customers1.csv', 'row': 0}, page_content='Index: 1\\nCustomer Id: DD37Cf93aecA6Dc\\nFirst Name: Sheryl\\nLast Name: Baxter\\nCompany: Rasmussen Group\\nCity: East Leonard\\nCountry: Chile\\nPhone 1: 229.077.5154\\nPhone 2: 397.884.0519x718\\nEmail: zunigavanessa@smith.info\\nSubscription Date: 24-08-2020\\nWebsite: http://www.stephenson.com/\\n: '), Document(metadata={'source': 'static\\\\customers1.csv', 'row': 1}, page_content='Index: 2\\nCustomer Id: 1Ef7b82A4CAAD10\\nFirst Name: Preston\\nLast Name: Lozano\\nCompany: Vega-Gentry\\nCity: East Jimmychester\\nCountry: Djibouti\\nPhone 1: 5153435776\\nPhone 2: 686-620-1820x944\\nEmail: vmata@colon.com\\nSubscription Date: 23-04-2021\\nWebsite: http://www.hobbs.com/\\n: '), Document(metadata={'source': 'static\\\\customers1.csv', 'row': 2}, page_content='Index: 3\\nCustomer Id: 6F94879bDAfE5a6\\nFirst Name: Roy\\nLast Name: Berry\\nCompany: Murillo-Perry\\nCity: Isabelborough\\nCountry: Antigua and Barbuda\\nPhone 1: -1199\\nPhone 2: (496)978-3969x58947\\nEmail: beckycarr@hogan.com\\nSubscription Date: 25-03-2020\\nWebsite: http://www.lawrence.com/\\n: '), Document(metadata={'source': 'static\\\\customers1.csv', 'row': 3}, page_content='Index: 4\\nCustomer Id: 5Cef8BFA16c5e3c\\nFirst Name: Linda\\nLast Name: Olsen\\nCompany: Dominguez, Mcmillan and Donovan\\nCity: Bensonview\\nCountry: Dominican Republic\\nPhone 1: 001-808-617-6467x12895\\nPhone 2: -9892\\nEmail: stanleyblackwell@benson.org\\nSubscription Date: 02-06-2020\\nWebsite: http://www.good-lyons.com/\\n: '), Document(metadata={'source': 'static\\\\customers1.csv', 'row': 4}, page_content='Index: 5\\nCustomer Id: 053d585Ab6b3159\\nFirst Name: Joanna\\nLast Name: Bender\\nCompany: Martin, Lang and Andrade\\nCity: West Priscilla\\nCountry: Slovakia (Slovak Republic)\\nPhone 1: 001-234-203-0635x76146\\nPhone 2: 001-199-446-3860x3486\\nEmail: colinalvarado@miles.net\\nSubscription Date: 17-04-2021\\nWebsite: https://goodwin-ingram.com/\\n: '), Document(metadata={'source': 'static\\\\customers1.csv', 'row': 5}, page_content='Index: 6\\nCustomer Id: 2d08FB17EE273F4\\nFirst Name: Aimee\\nLast Name: Downs\\nCompany: Steele Group\\nCity: Chavezborough\\nCountry: Bosnia and Herzegovina\\nPhone 1: (283)437-3886x88321\\nPhone 2: 999-728-1637\\nEmail: louis27@gilbert.com\\nSubscription Date: 25-02-2020\\nWebsite: http://www.berger.net/\\n: '), Document(metadata={'source': 'static\\\\customers1.csv', 'row': 6}, page_content='Index: 7\\nCustomer Id: EA4d384DfDbBf77\\nFirst Name: Darren\\nLast Name: Peck\\nCompany: Lester, Woodard and Mitchell\\nCity: Lake Ana\\nCountry: Pitcairn Islands\\nPhone 1: (496)452-6181x3291\\nPhone 2: +1-247-266-0963x4995\\nEmail: tgates@cantrell.com\\nSubscription Date: 24-08-2021\\nWebsite: https://www.le.com/\\n: '), Document(metadata={'source': 'static\\\\customers1.csv', 'row': 7}, page_content='Index: 8\\nCustomer Id: 0e04AFde9f225dE\\nFirst Name: Brett\\nLast Name: Mullen\\nCompany: Sanford, Davenport and Giles\\nCity: Kimport\\nCountry: Bulgaria\\nPhone 1: 001-583-352-7197x297\\nPhone 2: 001-333-145-0369\\nEmail: asnow@colon.com\\nSubscription Date: 12-04-2021\\nWebsite: https://hammond-ramsey.com/\\n: '), Document(metadata={'source': 'static\\\\customers1.csv', 'row': 8}, page_content='Index: 9\\nCustomer Id: C2dE4dEEc489ae0\\nFirst Name: Sheryl\\nLast Name: Meyers\\nCompany: Browning-Simon\\nCity: Robersonstad\\nCountry: Cyprus\\nPhone 1: 854-138-4911x5772\\nPhone 2: +1-448-910-2276x729\\nEmail: mariokhan@ryan-pope.org\\nSubscription Date: 13-01-2020\\nWebsite: https://www.bullock.net/\\n: '), Document(metadata={'source': 'static\\\\customers1.csv', 'row': 9}, page_content='Index: 10\\nCustomer Id: 8C2811a503C7c5a\\nFirst Name: Michelle\\nLast Name: Gallagher\\nCompany: Beck-Hendrix\\nCity: Elaineberg\\nCountry: Timor-Leste\\nPhone 1: 739.218.2516x459\\nPhone 2: 001-054-401-0347x617\\nEmail: mdyer@escobar.net\\nSubscription Date: 08-11-2021\\nWebsite: https://arias.com/\\n: '), Document(metadata={'source': 'static\\\\customers1.csv', 'row': 10}, page_content='Index: 11\\nCustomer Id: 216E205d6eBb815\\nFirst Name: Carl\\nLast Name: Schroeder\\nCompany: Oconnell, Meza and Everett\\nCity: Shannonville\\nCountry: Guernsey\\nPhone 1: 637-854-0256x825\\nPhone 2: 114.336.0784x788\\nEmail: kirksalas@webb.com\\nSubscription Date: 20-10-2021\\nWebsite: https://simmons-hurley.com/\\n: '), Document(metadata={'source': 'static\\\\customers1.csv', 'row': 11}, page_content='Index: 12\\nCustomer Id: CEDec94deE6d69B\\nFirst Name: Jenna\\nLast Name: Dodson\\nCompany: Hoffman, Reed and Mcclain\\nCity: East Andrea\\nCountry: Vietnam\\nPhone 1: (041)737-3846\\nPhone 2: +1-556-888-3485x42608\\nEmail: mark42@robbins.com\\nSubscription Date: 29-11-2020\\nWebsite: http://www.douglas.net/\\n: '), Document(metadata={'source': 'static\\\\customers1.csv', 'row': 12}, page_content='Index: 13\\nCustomer Id: e35426EbDEceaFF\\nFirst Name: Tracey\\nLast Name: Mata\\nCompany: Graham-Francis\\nCity: South Joannamouth\\nCountry: Togo\\nPhone 1: 001-949-844-8787\\nPhone 2: (855)713-8773\\nEmail: alex56@walls.org\\nSubscription Date: 02-12-2021\\nWebsite: http://www.beck.com/\\n: '), Document(metadata={'source': 'static\\\\customers1.csv', 'row': 13}, page_content='Index: 14\\nCustomer Id: A08A8aF8BE9FaD4\\nFirst Name: Kristine\\nLast Name: Cox\\nCompany: Carpenter-Cook\\nCity: Jodyberg\\nCountry: Sri Lanka\\nPhone 1: 786-284-3358x62152\\nPhone 2: +1-315-627-1796x8074\\nEmail: holdenmiranda@clarke.com\\nSubscription Date: 08-02-2021\\nWebsite: https://www.brandt.com/\\n: '), Document(metadata={'source': 'static\\\\customers1.csv', 'row': 14}, page_content='Index: 15\\nCustomer Id: 6fEaA1b7cab7B6C\\nFirst Name: Faith\\nLast Name: Lutz\\nCompany: Carter-Hancock\\nCity: Burchbury\\nCountry: Singapore\\nPhone 1: (781)861-7180x8306\\nPhone 2: 207-185-3665\\nEmail: cassieparrish@blevins-chapman.net\\nSubscription Date: 26-01-2022\\nWebsite: http://stevenson.org/\\n: '), Document(metadata={'source': 'static\\\\customers1.csv', 'row': 15}, page_content='Index: 16\\nCustomer Id: 8cad0b4CBceaeec\\nFirst Name: Miranda\\nLast Name: Beasley\\nCompany: Singleton and Sons\\nCity: Desireeshire\\nCountry: Oman\\nPhone 1: 540.085.3135x185\\nPhone 2: +1-600-462-6432x21881\\nEmail: vduncan@parks-hardy.com\\nSubscription Date: 12-04-2022\\nWebsite: http://acosta.org/\\n: '), Document(metadata={'source': 'static\\\\customers1.csv', 'row': 16}, page_content='Index: 17\\nCustomer Id: a5DC21AE3a21eaA\\nFirst Name: Caroline\\nLast Name: Foley\\nCompany: Winters-Mendoza\\nCity: West Adriennestad\\nCountry: Western Sahara\\nPhone 1: 936.222.4746x9924\\nPhone 2: 001-469-948-6341x359\\nEmail: holtgwendolyn@watson-davenport.com\\nSubscription Date: 10-03-2021\\nWebsite: http://www.benson-roth.com/\\n: '), Document(metadata={'source': 'static\\\\customers1.csv', 'row': 17}, page_content='Index: 18\\nCustomer Id: F8Aa9d6DfcBeeF8\\nFirst Name: Greg\\nLast Name: Mata\\nCompany: Valentine LLC\\nCity: Lake Leslie\\nCountry: Mozambique\\nPhone 1: (701)087-2415\\nPhone 2: (195)156-1861x26241\\nEmail: jaredjuarez@carroll.org\\nSubscription Date: 26-03-2022\\nWebsite: http://pitts-cherry.com/\\n: '), Document(metadata={'source': 'static\\\\customers1.csv', 'row': 18}, page_content='Index: 19\\nCustomer Id: F160f5Db3EfE973\\nFirst Name: Clifford\\nLast Name: Jacobson\\nCompany: Simon LLC\\nCity: Harmonview\\nCountry: South Georgia and the South Sandwich Islands\\nPhone 1: 001-151-330-3524x0469\\nPhone 2: (748)477-7174\\nEmail: joseph26@jacobson.com\\nSubscription Date: 24-09-2020\\nWebsite: https://mcconnell.com/\\n: '), Document(metadata={'source': 'static\\\\customers1.csv', 'row': 19}, page_content='Index: 20\\nCustomer Id: 0F60FF3DdCd7aB0\\nFirst Name: Joanna\\nLast Name: Kirk\\nCompany: Mays-Mccormick\\nCity: Jamesshire\\nCountry: French Polynesia\\nPhone 1: (266)131-7001x711\\nPhone 2: (283)312-5579x11543\\nEmail: tuckerangie@salazar.net\\nSubscription Date: 24-09-2021\\nWebsite: https://www.camacho.net/\\n: '), Document(metadata={'source': 'static\\\\customers1.csv', 'row': 20}, page_content='Index: 21\\nCustomer Id: 9F9AdB7B8A6f7F2\\nFirst Name: Maxwell\\nLast Name: Frye\\nCompany: Patterson Inc\\nCity: East Carly\\nCountry: Malta\\nPhone 1: 423.262.3059\\nPhone 2: 202-880-0688x7491\\nEmail: fgibson@drake-webb.com\\nSubscription Date: 12-01-2022\\nWebsite: http://www.roberts.com/\\n: '), Document(metadata={'source': 'static\\\\customers1.csv', 'row': 21}, page_content='Index: 22\\nCustomer Id: FBd0Ded4F02a742\\nFirst Name: Kiara\\nLast Name: Houston\\nCompany: Manning, Hester and Arroyo\\nCity: South Alvin\\nCountry: Netherlands\\nPhone 1: 001-274-040-3582x10611\\nPhone 2: +1-528-175-0973x4684\\nEmail: blanchardbob@wallace-shannon.com\\nSubscription Date: 15-09-2020\\nWebsite: https://www.reid-potts.com/\\n: '), Document(metadata={'source': 'static\\\\customers1.csv', 'row': 22}, page_content='Index: 23\\nCustomer Id: 2FB0FAA1d429421\\nFirst Name: Colleen\\nLast Name: Howard\\nCompany: Greer and Sons\\nCity: Brittanyview\\nCountry: Paraguay\\nPhone 1: 1935085151\\nPhone 2: (947)115-7711x5488\\nEmail: rsingleton@ryan-cherry.com\\nSubscription Date: 19-08-2020\\nWebsite: http://paul.biz/\\n: '), Document(metadata={'source': 'static\\\\customers1.csv', 'row': 23}, page_content=\"Index: 24\\nCustomer Id: 010468dAA11382c\\nFirst Name: Janet\\nLast Name: Valenzuela\\nCompany: Watts-Donaldson\\nCity: Veronicamouth\\nCountry: Lao People's Democratic Republic\\nPhone 1: 354.259.5062x7538\\nPhone 2: 500.433.2022\\nEmail: stefanie71@spence.com\\nSubscription Date: 08-09-2020\\nWebsite: https://moreno.biz/\\n: \"), Document(metadata={'source': 'static\\\\customers1.csv', 'row': 24}, page_content='Index: 25\\nCustomer Id: eC1927Ca84E033e\\nFirst Name: Shane\\nLast Name: Wilcox\\nCompany: Tucker LLC\\nCity: Bryanville\\nCountry: Albania\\nPhone 1: (429)005-9030x11004\\nPhone 2: 541-116-4501\\nEmail: mariah88@santos.com\\nSubscription Date: 06-04-2021\\nWebsite: https://www.ramos.com/\\n: '), Document(metadata={'source': 'static\\\\customers1.csv', 'row': 25}, page_content='Index: 26\\nCustomer Id: 09D7D7C8Fe09aea\\nFirst Name: Marcus\\nLast Name: Moody\\nCompany: Giles Ltd\\nCity: Kaitlyntown\\nCountry: Panama\\nPhone 1: 674-677-8623\\nPhone 2: 909-277-5485x566\\nEmail: donnamullins@norris-barrett.org\\nSubscription Date: 24-05-2022\\nWebsite: https://www.curry.com/\\n: '), Document(metadata={'source': 'static\\\\customers1.csv', 'row': 26}, page_content='Index: 27\\nCustomer Id: aBdfcF2c50b0bfD\\nFirst Name: Dakota\\nLast Name: Poole\\nCompany: Simmons Group\\nCity: Michealshire\\nCountry: Belarus\\nPhone 1: (371)987-8576x4720\\nPhone 2: 071-152-1376\\nEmail: stacey67@fields.org\\nSubscription Date: 20-02-2022\\nWebsite: https://sanford-wilcox.biz/\\n: '), Document(metadata={'source': 'static\\\\customers1.csv', 'row': 27}, page_content='Index: 28\\nCustomer Id: b92EBfdF8a3f0E6\\nFirst Name: Frederick\\nLast Name: Harper\\nCompany: Hinton, Chaney and Stokes\\nCity: South Marissatown\\nCountry: Switzerland\\nPhone 1: +1-077-121-1558x0687\\nPhone 2: 264.742.7149\\nEmail: jacobkhan@bright.biz\\nSubscription Date: 26-05-2022\\nWebsite: https://callahan.org/\\n: '), Document(metadata={'source': 'static\\\\customers1.csv', 'row': 28}, page_content='Index: 29\\nCustomer Id: 3B5dAAFA41AFa22\\nFirst Name: Stefanie\\nLast Name: Fitzpatrick\\nCompany: Santana-Duran\\nCity: Acevedoville\\nCountry: Saint Vincent and the Grenadines\\nPhone 1: (752)776-3286\\nPhone 2: +1-472-021-4814x85074\\nEmail: wterrell@clark.com\\nSubscription Date: 30-07-2020\\nWebsite: https://meyers.com/\\n: '), Document(metadata={'source': 'static\\\\customers1.csv', 'row': 29}, page_content='Index: 30\\nCustomer Id: EDA69ca7a6e96a2\\nFirst Name: Kent\\nLast Name: Bradshaw\\nCompany: Sawyer PLC\\nCity: North Harold\\nCountry: Tanzania\\nPhone 1: +1-472-143-5037x884\\nPhone 2: 126.922.6153\\nEmail: qjimenez@boyd.com\\nSubscription Date: 26-04-2020\\nWebsite: http://maynard-ho.com/\\n: '), Document(metadata={'source': 'static\\\\customers1.csv', 'row': 30}, page_content='Index: 31\\nCustomer Id: 64DCcDFaB9DFd4e\\nFirst Name: Jack\\nLast Name: Tate\\nCompany: Acosta, Petersen and Morrow\\nCity: West Samuel\\nCountry: Zimbabwe\\nPhone 1: 965-108-4406x20714\\nPhone 2: 046.906.1442x6784\\nEmail: gfigueroa@boone-zavala.com\\nSubscription Date: 15-09-2021\\nWebsite: http://www.hawkins-ramsey.com/\\n: '), Document(metadata={'source': 'static\\\\customers1.csv', 'row': 31}, page_content='Index: 32\\nCustomer Id: 679c6c83DD872d6\\nFirst Name: Tom\\nLast Name: Trujillo\\nCompany: Mcgee Group\\nCity: Cunninghamborough\\nCountry: Denmark\\nPhone 1: 416-338-3758\\nPhone 2: (775)890-7209\\nEmail: tapiagreg@beard.info\\nSubscription Date: 13-01-2022\\nWebsite: http://www.daniels-klein.com/\\n: '), Document(metadata={'source': 'static\\\\customers1.csv', 'row': 32}, page_content='Index: 33\\nCustomer Id: 7Ce381e4Afa4ba9\\nFirst Name: Gabriel\\nLast Name: Mejia\\nCompany: Adkins-Salinas\\nCity: Port Annatown\\nCountry: Liechtenstein\\nPhone 1: 4077245425\\nPhone 2: 646.044.0696x66800\\nEmail: coleolson@jennings.net\\nSubscription Date: 24-04-2021\\nWebsite: https://patel-hanson.info/\\n: '), Document(metadata={'source': 'static\\\\customers1.csv', 'row': 33}, page_content='Index: 34\\nCustomer Id: A09AEc6E3bF70eE\\nFirst Name: Kaitlyn\\nLast Name: Santana\\nCompany: Herrera Group\\nCity: New Kaitlyn\\nCountry: United States of America\\nPhone 1: 6303643286\\nPhone 2: 447-710-6202x07313\\nEmail: georgeross@miles.org\\nSubscription Date: 21-09-2021\\nWebsite: http://pham.com/\\n: '), Document(metadata={'source': 'static\\\\customers1.csv', 'row': 34}, page_content='Index: 35\\nCustomer Id: aA9BAFfBc3710fe\\nFirst Name: Faith\\nLast Name: Moon\\nCompany: Waters, Chase and Aguilar\\nCity: West Marthaburgh\\nCountry: Bahamas\\nPhone 1: +1-586-217-0359x6317\\nPhone 2: -2419\\nEmail: willistonya@randolph-baker.com\\nSubscription Date: 03-11-2021\\nWebsite: https://spencer-charles.info/\\n: '), Document(metadata={'source': 'static\\\\customers1.csv', 'row': 35}, page_content='Index: 36\\nCustomer Id: E11dfb2DB8C9f72\\nFirst Name: Tammie\\nLast Name: Haley\\nCompany: Palmer, Barnes and Houston\\nCity: East Teresa\\nCountry: Belize\\nPhone 1: 001-276-734-4113x6087\\nPhone 2: (430)300-8770\\nEmail: harrisisaiah@jenkins.com\\nSubscription Date: 04-01-2022\\nWebsite: http://evans-simon.com/\\n: '), Document(metadata={'source': 'static\\\\customers1.csv', 'row': 36}, page_content='Index: 37\\nCustomer Id: 889eCf90f68c5Da\\nFirst Name: Nicholas\\nLast Name: Sosa\\nCompany: Jordan Ltd\\nCity: South Hunter\\nCountry: Uruguay\\nPhone 1: (661)425-6042\\nPhone 2: 975-998-1519\\nEmail: fwolfe@dorsey.com\\nSubscription Date: 10-08-2021\\nWebsite: https://www.fleming-richards.com/\\n: '), Document(metadata={'source': 'static\\\\customers1.csv', 'row': 37}, page_content='Index: 38\\nCustomer Id: 7a1Ee69F4fF4B4D\\nFirst Name: Jordan\\nLast Name: Gay\\nCompany: Glover and Sons\\nCity: South Walter\\nCountry: Solomon Islands\\nPhone 1: 7208417020\\nPhone 2: 8035336772\\nEmail: tiffanydavies@harris-mcfarland.org\\nSubscription Date: 24-02-2021\\nWebsite: http://www.lee.org/\\n: '), Document(metadata={'source': 'static\\\\customers1.csv', 'row': 38}, page_content='Index: 39\\nCustomer Id: dca4f1D0A0fc5c9\\nFirst Name: Bruce\\nLast Name: Esparza\\nCompany: Huerta-Mclean\\nCity: Poolefurt\\nCountry: Montenegro\\nPhone 1: 559-529-4424\\nPhone 2: 001-625-000-7132x0367\\nEmail: preese@frye-vega.com\\nSubscription Date: 22-10-2021\\nWebsite: http://www.farley.org/\\n: '), Document(metadata={'source': 'static\\\\customers1.csv', 'row': 39}, page_content='Index: 40\\nCustomer Id: 17aD8e2dB3df03D\\nFirst Name: Sherry\\nLast Name: Garza\\nCompany: Anderson Ltd\\nCity: West John\\nCountry: Poland\\nPhone 1: 001-067-713-6440x158\\nPhone 2: (978)289-8785x5766\\nEmail: ann48@miller.com\\nSubscription Date: 01-11-2021\\nWebsite: http://spence.com/\\n: '), Document(metadata={'source': 'static\\\\customers1.csv', 'row': 40}, page_content='Index: 41\\nCustomer Id: 2f79Cd309624Abb\\nFirst Name: Natalie\\nLast Name: Gentry\\nCompany: Monroe PLC\\nCity: West Darius\\nCountry: Dominican Republic\\nPhone 1: 830.996.8238\\nPhone 2: 499.122.5415\\nEmail: tcummings@fitzpatrick-ashley.com\\nSubscription Date: 10-10-2020\\nWebsite: http://www.dorsey.biz/\\n: '), Document(metadata={'source': 'static\\\\customers1.csv', 'row': 41}, page_content='Index: 42\\nCustomer Id: 6e5ad5a5e2bB5Ca\\nFirst Name: Bryan\\nLast Name: Dunn\\nCompany: Kaufman and Sons\\nCity: North Jimstad\\nCountry: Burkina Faso\\nPhone 1: 001-710-802-5565\\nPhone 2: 078.699.8982x13881\\nEmail: woodwardandres@phelps.com\\nSubscription Date: 08-09-2021\\nWebsite: http://www.butler.com/\\n: '), Document(metadata={'source': 'static\\\\customers1.csv', 'row': 42}, page_content='Index: 43\\nCustomer Id: 7E441b6B228DBcA\\nFirst Name: Wayne\\nLast Name: Simpson\\nCompany: Perkins-Trevino\\nCity: East Rebekahborough\\nCountry: Bolivia\\nPhone 1: (344)156-8632x1869\\nPhone 2: 463-445-3702x38463\\nEmail: barbarapittman@holder.com\\nSubscription Date: 13-12-2020\\nWebsite: https://gillespie-holder.com/\\n: '), Document(metadata={'source': 'static\\\\customers1.csv', 'row': 43}, page_content='Index: 44\\nCustomer Id: D3fC11A9C235Dc6\\nFirst Name: Luis\\nLast Name: Greer\\nCompany: Cross PLC\\nCity: North Drew\\nCountry: Bulgaria\\nPhone 1: 001-336-025-6849x701\\nPhone 2: 684.698.2911x6092\\nEmail: bstuart@williamson-mcclure.com\\nSubscription Date: 15-05-2022\\nWebsite: https://fletcher-nielsen.com/\\n: '), Document(metadata={'source': 'static\\\\customers1.csv', 'row': 44}, page_content='Index: 45\\nCustomer Id: 30Dfa48fe5Ede78\\nFirst Name: Rhonda\\nLast Name: Frost\\nCompany: Herrera, Shepherd and Underwood\\nCity: Lake Lindaburgh\\nCountry: Monaco\\nPhone 1: (127)081-9339\\nPhone 2: +1-431-028-3337x3492\\nEmail: zkrueger@wolf-chavez.net\\nSubscription Date: 06-12-2021\\nWebsite: http://www.khan.com/\\n: '), Document(metadata={'source': 'static\\\\customers1.csv', 'row': 45}, page_content='Index: 46\\nCustomer Id: fD780ED8dbEae7B\\nFirst Name: Joanne\\nLast Name: Montes\\nCompany: Price, Sexton and Mcdaniel\\nCity: Gwendolynview\\nCountry: Palau\\nPhone 1: (897)726-7952\\nPhone 2: (467)886-9467x5721\\nEmail: juan80@henson.net\\nSubscription Date: 01-07-2020\\nWebsite: http://ochoa.com/\\n: '), Document(metadata={'source': 'static\\\\customers1.csv', 'row': 46}, page_content='Index: 47\\nCustomer Id: 300A40d3ce24bBA\\nFirst Name: Geoffrey\\nLast Name: Guzman\\nCompany: Short-Wiggins\\nCity: Zimmermanland\\nCountry: Uzbekistan\\nPhone 1: 975.235.8921x269\\nPhone 2: (983)188-6873\\nEmail: bauercrystal@gay.com\\nSubscription Date: 23-04-2020\\nWebsite: https://decker-kline.com/\\n: '), Document(metadata={'source': 'static\\\\customers1.csv', 'row': 47}, page_content='Index: 48\\nCustomer Id: 283DFCD0Dba40aF\\nFirst Name: Gloria\\nLast Name: Mccall\\nCompany: Brennan, Acosta and Ramos\\nCity: North Kerriton\\nCountry: Ghana\\nPhone 1: 445-603-6729\\nPhone 2: 001-395-959-4736x4524\\nEmail: bartlettjenna@zuniga-moss.biz\\nSubscription Date: 11-03-2022\\nWebsite: http://burgess-frank.com/\\n: '), Document(metadata={'source': 'static\\\\customers1.csv', 'row': 48}, page_content='Index: 49\\nCustomer Id: F4Fc91fEAEad286\\nFirst Name: Brady\\nLast Name: Cohen\\nCompany: Osborne-Erickson\\nCity: North Eileenville\\nCountry: United Arab Emirates\\nPhone 1: 741.849.0139x524\\nPhone 2: +1-028-691-7497x0894\\nEmail: mccalltyrone@durham-rose.biz\\nSubscription Date: 10-03-2022\\nWebsite: http://hammond-barron.com/\\n: '), Document(metadata={'source': 'static\\\\customers1.csv', 'row': 49}, page_content='Index: 50\\nCustomer Id: 80F33Fd2AcebF05\\nFirst Name: Latoya\\nLast Name: Mccann\\nCompany: Hobbs, Garrett and Sanford\\nCity: Port Sergiofort\\nCountry: Belarus\\nPhone 1: (530)287-4548x29481\\nPhone 2: 162-234-0249x32790\\nEmail: bobhammond@barry.biz\\nSubscription Date: 02-12-2021\\nWebsite: https://www.burton.com/\\n: '), Document(metadata={'source': 'static\\\\customers1.csv', 'row': 50}, page_content='Index: 51\\nCustomer Id: Aa20BDe68eAb0e9\\nFirst Name: Gerald\\nLast Name: Hawkins\\nCompany: Phelps, Forbes and Koch\\nCity: New Alberttown\\nCountry: Canada\\nPhone 1: +1-323-239-1456x96168\\nPhone 2: (092)508-0269\\nEmail: uwarner@steele-arias.com\\nSubscription Date: 19-03-2021\\nWebsite: https://valenzuela.com/\\n: '), Document(metadata={'source': 'static\\\\customers1.csv', 'row': 51}, page_content='Index: 52\\nCustomer Id: e898eEB1B9FE22b\\nFirst Name: Samuel\\nLast Name: Crawford\\nCompany: May, Goodwin and Martin\\nCity: South Jasmine\\nCountry: Algeria\\nPhone 1: 802-242-7457\\nPhone 2: 626.116.9535x8578\\nEmail: xpittman@ritter-carney.net\\nSubscription Date: 27-03-2021\\nWebsite: https://guerrero.org/\\n: '), Document(metadata={'source': 'static\\\\customers1.csv', 'row': 52}, page_content='Index: 53\\nCustomer Id: faCEF517ae7D8eB\\nFirst Name: Patricia\\nLast Name: Goodwin\\nCompany: Christian, Winters and Ellis\\nCity: Cowanfort\\nCountry: Swaziland\\nPhone 1: 322.549.7139x70040\\nPhone 2: (111)741-4173\\nEmail: vaughanchristy@lara.biz\\nSubscription Date: 08-03-2021\\nWebsite: http://clark.info/\\n: '), Document(metadata={'source': 'static\\\\customers1.csv', 'row': 53}, page_content='Index: 54\\nCustomer Id: c09952De6Cda8aA\\nFirst Name: Stacie\\nLast Name: Richard\\nCompany: Byrd Inc\\nCity: New Deborah\\nCountry: Madagascar\\nPhone 1: 001-622-948-3641x24810\\nPhone 2: 001-731-168-2893x8891\\nEmail: clinton85@colon-arias.org\\nSubscription Date: 15-10-2020\\nWebsite: https://kim.com/\\n: '), Document(metadata={'source': 'static\\\\customers1.csv', 'row': 54}, page_content='Index: 55\\nCustomer Id: f3BEf3Be028166f\\nFirst Name: Robin\\nLast Name: West\\nCompany: Nixon, Blackwell and Sosa\\nCity: Wallstown\\nCountry: Ecuador\\nPhone 1: 698.303.4267\\nPhone 2: 001-683-837-7651x525\\nEmail: greenemiranda@zimmerman.com\\nSubscription Date: 13-01-2022\\nWebsite: https://www.mora.com/\\n: '), Document(metadata={'source': 'static\\\\customers1.csv', 'row': 55}, page_content='Index: 56\\nCustomer Id: C6F2Fc6a7948a4e\\nFirst Name: Ralph\\nLast Name: Haas\\nCompany: Montes PLC\\nCity: Lake Ellenchester\\nCountry: Palestinian Territory\\nPhone 1: 2239271999\\nPhone 2: 001-962-434-0867x649\\nEmail: goodmancesar@figueroa.biz\\nSubscription Date: 25-05-2020\\nWebsite: http://may.com/\\n: '), Document(metadata={'source': 'static\\\\customers1.csv', 'row': 56}, page_content='Index: 57\\nCustomer Id: c8FE57cBBdCDcb2\\nFirst Name: Phyllis\\nLast Name: Maldonado\\nCompany: Costa PLC\\nCity: Lake Whitney\\nCountry: Saint Barthelemy\\nPhone 1: 4500370767\\nPhone 2: 001-508-064-6725x017\\nEmail: yhanson@warner-diaz.org\\nSubscription Date: 25-01-2021\\nWebsite: http://www.bernard.com/\\n: '), Document(metadata={'source': 'static\\\\customers1.csv', 'row': 57}, page_content='Index: 58\\nCustomer Id: B5acdFC982124F2\\nFirst Name: Danny\\nLast Name: Parrish\\nCompany: Novak LLC\\nCity: East Jaredbury\\nCountry: United Arab Emirates\\nPhone 1: (669)384-8597x8794\\nPhone 2: 506.731.5952x571\\nEmail: howelldarren@house-cohen.com\\nSubscription Date: 17-03-2021\\nWebsite: http://www.parsons-hudson.com/\\n: '), Document(metadata={'source': 'static\\\\customers1.csv', 'row': 58}, page_content='Index: 59\\nCustomer Id: 8c7DdF10798bCC3\\nFirst Name: Kathy\\nLast Name: Hill\\nCompany: Moore, Mccoy and Glass\\nCity: Selenabury\\nCountry: South Georgia and the South Sandwich Islands\\nPhone 1: 001-171-716-2175x310\\nPhone 2: 888.625.0654\\nEmail: ncamacho@boone-simmons.org\\nSubscription Date: 15-11-2020\\nWebsite: http://hayden.com/\\n: '), Document(metadata={'source': 'static\\\\customers1.csv', 'row': 59}, page_content='Index: 60\\nCustomer Id: C681dDd0cc422f7\\nFirst Name: Kelli\\nLast Name: Hardy\\nCompany: Petty Ltd\\nCity: Huangfort\\nCountry: Sao Tome and Principe\\nPhone 1: 020.324.2191x2022\\nPhone 2: 424-157-8216\\nEmail: kristopher62@oliver.com\\nSubscription Date: 20-12-2020\\nWebsite: http://www.kidd.com/\\n: '), Document(metadata={'source': 'static\\\\customers1.csv', 'row': 60}, page_content='Index: 61\\nCustomer Id: a940cE42e035F28\\nFirst Name: Lynn\\nLast Name: Pham\\nCompany: Brennan, Camacho and Tapia\\nCity: East Pennyshire\\nCountry: Portugal\\nPhone 1: 846.468.6834x611\\nPhone 2: 001-248-691-0006\\nEmail: mpham@rios-guzman.com\\nSubscription Date: 21-08-2020\\nWebsite: https://www.murphy.com/\\n: '), Document(metadata={'source': 'static\\\\customers1.csv', 'row': 61}, page_content='Index: 62\\nCustomer Id: 9Cf5E6AFE0aeBfd\\nFirst Name: Shelley\\nLast Name: Harris\\nCompany: Prince, Malone and Pugh\\nCity: Port Jasminborough\\nCountry: Togo\\nPhone 1: 423.098.0315x8373\\nPhone 2: +1-386-458-8944x15194\\nEmail: zachary96@mitchell-bryant.org\\nSubscription Date: 10-12-2020\\nWebsite: https://www.ryan.com/\\n: '), Document(metadata={'source': 'static\\\\customers1.csv', 'row': 62}, page_content='Index: 63\\nCustomer Id: aEcbe5365BbC67D\\nFirst Name: Eddie\\nLast Name: Jimenez\\nCompany: Caldwell Group\\nCity: West Kristine\\nCountry: Ethiopia\\nPhone 1: +1-235-657-1073x6306\\nPhone 2: (026)401-7353x2417\\nEmail: kristiwhitney@bernard.com\\nSubscription Date: 24-03-2022\\nWebsite: http://cherry.com/\\n: '), Document(metadata={'source': 'static\\\\customers1.csv', 'row': 63}, page_content='Index: 64\\nCustomer Id: FCBdfCEAe20A8Dc\\nFirst Name: Chloe\\nLast Name: Hutchinson\\nCompany: Simon LLC\\nCity: South Julia\\nCountry: Netherlands\\nPhone 1: 981-544-9452\\nPhone 2: +1-288-552-4666x060\\nEmail: leah85@sutton-terrell.com\\nSubscription Date: 15-05-2022\\nWebsite: https://mitchell.info/\\n: '), Document(metadata={'source': 'static\\\\customers1.csv', 'row': 64}, page_content='Index: 65\\nCustomer Id: 636cBF0835E10ff\\nFirst Name: Eileen\\nLast Name: Lynch\\nCompany: Knight, Abbott and Hubbard\\nCity: Helenborough\\nCountry: Liberia\\nPhone 1: +1-158-951-4131x53578\\nPhone 2: 001-673-779-6713x680\\nEmail: levigiles@vincent.com\\nSubscription Date: 02-01-2021\\nWebsite: http://mckay.com/\\n: '), Document(metadata={'source': 'static\\\\customers1.csv', 'row': 65}, page_content='Index: 66\\nCustomer Id: fF1b6c9E8Fbf1ff\\nFirst Name: Fernando\\nLast Name: Lambert\\nCompany: Church-Banks\\nCity: Lake Nancy\\nCountry: Lithuania\\nPhone 1: 497.829.9038\\nPhone 2: 3863743398\\nEmail: fisherlinda@schaefer.net\\nSubscription Date: 23-04-2021\\nWebsite: https://www.vang.com/\\n: '), Document(metadata={'source': 'static\\\\customers1.csv', 'row': 66}, page_content='Index: 67\\nCustomer Id: 2A13F74EAa7DA6c\\nFirst Name: Makayla\\nLast Name: Cannon\\nCompany: Henderson Inc\\nCity: Georgeport\\nCountry: New Caledonia\\nPhone 1: 001-215-801-6392x46009\\nPhone 2: 027-609-6460\\nEmail: scottcurtis@hurley.biz\\nSubscription Date: 20-01-2020\\nWebsite: http://www.velazquez.net/\\n: '), Document(metadata={'source': 'static\\\\customers1.csv', 'row': 67}, page_content='Index: 68\\nCustomer Id: a014Ec1b9FccC1E\\nFirst Name: Tom\\nLast Name: Alvarado\\nCompany: Donaldson-Dougherty\\nCity: South Sophiaberg\\nCountry: Kiribati\\nPhone 1: (585)606-2980x2258\\nPhone 2: 730-797-3594x5614\\nEmail: nicholsonnina@montgomery.info\\nSubscription Date: 18-08-2020\\nWebsite: http://odom-massey.com/\\n: '), Document(metadata={'source': 'static\\\\customers1.csv', 'row': 68}, page_content='Index: 69\\nCustomer Id: 421a109cABDf5fa\\nFirst Name: Virginia\\nLast Name: Dudley\\nCompany: Warren Ltd\\nCity: Hartbury\\nCountry: French Southern Territories\\nPhone 1: 027.846.3705x14184\\nPhone 2: +1-439-171-1846x4636\\nEmail: zvalencia@phelps.com\\nSubscription Date: 31-01-2021\\nWebsite: http://hunter-esparza.com/\\n: '), Document(metadata={'source': 'static\\\\customers1.csv', 'row': 69}, page_content='Index: 70\\nCustomer Id: CC68FD1D3Bbbf22\\nFirst Name: Riley\\nLast Name: Good\\nCompany: Wade PLC\\nCity: Erikaville\\nCountry: Canada\\nPhone 1: 6977745822\\nPhone 2: 855-436-7641\\nEmail: alex06@galloway.com\\nSubscription Date: 03-02-2020\\nWebsite: http://conway.org/\\n: '), Document(metadata={'source': 'static\\\\customers1.csv', 'row': 70}, page_content='Index: 71\\nCustomer Id: CBCd2Ac8E3eBDF9\\nFirst Name: Alexandria\\nLast Name: Buck\\nCompany: Keller-Coffey\\nCity: Nicolasfort\\nCountry: Iran\\nPhone 1: 078-900-4760x76668\\nPhone 2: 414-112-8700x68751\\nEmail: lee48@manning.com\\nSubscription Date: 20-02-2021\\nWebsite: https://ramsey.org/\\n: '), Document(metadata={'source': 'static\\\\customers1.csv', 'row': 71}, page_content='Index: 72\\nCustomer Id: Ef859092FbEcC07\\nFirst Name: Richard\\nLast Name: Roth\\nCompany: Conway-Mcbride\\nCity: New Jasmineshire\\nCountry: Morocco\\nPhone 1: 581-440-6539\\nPhone 2: 9857827463\\nEmail: aharper@maddox-townsend.org\\nSubscription Date: 23-02-2020\\nWebsite: https://www.brooks.com/\\n: '), Document(metadata={'source': 'static\\\\customers1.csv', 'row': 72}, page_content='Index: 73\\nCustomer Id: F560f2d3cDFb618\\nFirst Name: Candice\\nLast Name: Keller\\nCompany: Huynh and Sons\\nCity: East Summerstad\\nCountry: Zimbabwe\\nPhone 1: 001-927-965-8550x92406\\nPhone 2: 001-243-038-4271x53076\\nEmail: buckleycory@odonnell.net\\nSubscription Date: 22-08-2020\\nWebsite: https://www.lucero.com/\\n: '), Document(metadata={'source': 'static\\\\customers1.csv', 'row': 73}, page_content='Index: 74\\nCustomer Id: A3F76Be153Df4a3\\nFirst Name: Anita\\nLast Name: Benson\\nCompany: Parrish Ltd\\nCity: Skinnerport\\nCountry: Russian Federation\\nPhone 1: 874.617.5668x69878\\nPhone 2: (399)820-6418x0071\\nEmail: angie04@oconnell.com\\nSubscription Date: 09-02-2020\\nWebsite: http://oconnor.com/\\n: '), Document(metadata={'source': 'static\\\\customers1.csv', 'row': 74}, page_content='Index: 75\\nCustomer Id: D01Af0AF7cBbFeA\\nFirst Name: Regina\\nLast Name: Stein\\nCompany: Guzman-Brown\\nCity: Raystad\\nCountry: Solomon Islands\\nPhone 1: 001-469-848-0724x4407\\nPhone 2: 001-085-360-4426x00357\\nEmail: zrosario@rojas-hardin.net\\nSubscription Date: 15-01-2022\\nWebsite: http://www.johnston.info/\\n: '), Document(metadata={'source': 'static\\\\customers1.csv', 'row': 75}, page_content='Index: 76\\nCustomer Id: d40e89dCade7b2F\\nFirst Name: Debra\\nLast Name: Riddle\\nCompany: Chang, Aguirre and Leblanc\\nCity: Colinhaven\\nCountry: United States Virgin Islands\\nPhone 1: +1-768-182-6014x14336\\nPhone 2: (303)961-4491\\nEmail: shieldskerry@robles.com\\nSubscription Date: 11-07-2020\\nWebsite: http://kaiser.info/\\n: '), Document(metadata={'source': 'static\\\\customers1.csv', 'row': 76}, page_content='Index: 77\\nCustomer Id: BF6a1f9bd1bf8DE\\nFirst Name: Brittany\\nLast Name: Zuniga\\nCompany: Mason-Hester\\nCity: West Reginald\\nCountry: Kyrgyz Republic\\nPhone 1: (050)136-9025\\nPhone 2: 001-480-851-2496x0157\\nEmail: mchandler@cochran-huerta.org\\nSubscription Date: 24-07-2021\\nWebsite: http://www.boyle.com/\\n: '), Document(metadata={'source': 'static\\\\customers1.csv', 'row': 77}, page_content='Index: 78\\nCustomer Id: FfaeFFbbbf280db\\nFirst Name: Cassidy\\nLast Name: Mcmahon\\nCompany: Mcguire, Huynh and Hopkins\\nCity: Lake Sherryborough\\nCountry: Myanmar\\nPhone 1: 5040771311\\nPhone 2: 684-682-0021x1326\\nEmail: katrinalane@fitzgerald.com\\nSubscription Date: 21-10-2020\\nWebsite: https://hurst.com/\\n: '), Document(metadata={'source': 'static\\\\customers1.csv', 'row': 78}, page_content='Index: 79\\nCustomer Id: CbAE1d1e9a8dCb1\\nFirst Name: Laurie\\nLast Name: Pennington\\nCompany: Sanchez, Marsh and Hale\\nCity: Port Katherineville\\nCountry: Dominica\\nPhone 1: 007.155.3406x553\\nPhone 2: +1-809-862-5566x277\\nEmail: cookejill@powell.com\\nSubscription Date: 08-06-2020\\nWebsite: http://www.hebert.com/\\n: '), Document(metadata={'source': 'static\\\\customers1.csv', 'row': 79}, page_content='Index: 80\\nCustomer Id: A7F85c1DE4dB87f\\nFirst Name: Alejandro\\nLast Name: Blair\\nCompany: Combs, Waller and Durham\\nCity: Thomasland\\nCountry: Iceland\\nPhone 1: (690)068-4641x51468\\nPhone 2: 555.509.8691x2329\\nEmail: elizabethbarr@ewing.com\\nSubscription Date: 19-09-2020\\nWebsite: https://mercado-blevins.com/\\n: '), Document(metadata={'source': 'static\\\\customers1.csv', 'row': 80}, page_content='Index: 81\\nCustomer Id: D6CEAfb3BDbaa1A\\nFirst Name: Leslie\\nLast Name: Jennings\\nCompany: Blankenship-Arias\\nCity: Coreybury\\nCountry: Micronesia\\nPhone 1: 629.198.6346\\nPhone 2: 075.256.0829\\nEmail: corey75@wiggins.com\\nSubscription Date: 13-11-2021\\nWebsite: https://www.juarez.com/\\n: '), Document(metadata={'source': 'static\\\\customers1.csv', 'row': 81}, page_content='Index: 82\\nCustomer Id: Ebdb6F6F7c90b69\\nFirst Name: Kathleen\\nLast Name: Mckay\\nCompany: Coffey, Lamb and Johnson\\nCity: Lake Janiceton\\nCountry: Saint Vincent and the Grenadines\\nPhone 1: (733)910-9968\\nPhone 2: (691)247-4128x0665\\nEmail: chloelester@higgins-wilkinson.com\\nSubscription Date: 12-09-2021\\nWebsite: http://www.owens-mooney.com/\\n: '), Document(metadata={'source': 'static\\\\customers1.csv', 'row': 82}, page_content='Index: 83\\nCustomer Id: E8E7e8Cfe516ef0\\nFirst Name: Hunter\\nLast Name: Moreno\\nCompany: Fitzpatrick-Lawrence\\nCity: East Clinton\\nCountry: Isle of Man\\nPhone 1: (733)833-6754\\nPhone 2: 001-761-013-7121\\nEmail: isaac26@benton-finley.com\\nSubscription Date: 28-12-2020\\nWebsite: http://walls.info/\\n: '), Document(metadata={'source': 'static\\\\customers1.csv', 'row': 83}, page_content='Index: 84\\nCustomer Id: 78C06E9b6B3DF20\\nFirst Name: Chad\\nLast Name: Davidson\\nCompany: Garcia-Jimenez\\nCity: South Joshuashire\\nCountry: Oman\\nPhone 1: 8275702958\\nPhone 2: (804)842-4715\\nEmail: justinwalters@jimenez.com\\nSubscription Date: 15-11-2021\\nWebsite: http://www.garner-oliver.com/\\n: '), Document(metadata={'source': 'static\\\\customers1.csv', 'row': 84}, page_content='Index: 85\\nCustomer Id: 03A1E62ADdeb31c\\nFirst Name: Corey\\nLast Name: Holt\\nCompany: Mcdonald, Bird and Ramirez\\nCity: New Glenda\\nCountry: Fiji\\nPhone 1: 001-439-242-4986x7918\\nPhone 2: 3162708934\\nEmail: maurice46@morgan.com\\nSubscription Date: 18-02-2020\\nWebsite: http://www.watson.com/\\n: '), Document(metadata={'source': 'static\\\\customers1.csv', 'row': 85}, page_content='Index: 86\\nCustomer Id: C6763c99d0bd16D\\nFirst Name: Emma\\nLast Name: Cunningham\\nCompany: Stephens Inc\\nCity: North Jillianview\\nCountry: New Zealand\\nPhone 1: 128-059-0206x60217\\nPhone 2: (312)164-4545x2284\\nEmail: walter83@juarez.org\\nSubscription Date: 13-05-2022\\nWebsite: http://www.reid.info/\\n: '), Document(metadata={'source': 'static\\\\customers1.csv', 'row': 86}, page_content='Index: 87\\nCustomer Id: ebe77E5Bf9476CE\\nFirst Name: Duane\\nLast Name: Woods\\nCompany: Montoya-Miller\\nCity: Lyonsberg\\nCountry: Maldives\\nPhone 1: (636)544-7783x7288\\nPhone 2: (203)287-1003x5932\\nEmail: kmercer@wagner.com\\nSubscription Date: 21-07-2020\\nWebsite: http://murray.org/\\n: '), Document(metadata={'source': 'static\\\\customers1.csv', 'row': 87}, page_content='Index: 88\\nCustomer Id: E4Bbcd8AD81fC5f\\nFirst Name: Alison\\nLast Name: Vargas\\nCompany: Vaughn, Watts and Leach\\nCity: East Cristinabury\\nCountry: Benin\\nPhone 1: 365-273-8144\\nPhone 2: 053-308-7653x6287\\nEmail: vcantu@norton.com\\nSubscription Date: 10-11-2020\\nWebsite: http://mason.info/\\n: '), Document(metadata={'source': 'static\\\\customers1.csv', 'row': 88}, page_content='Index: 89\\nCustomer Id: efeb73245CDf1fF\\nFirst Name: Vernon\\nLast Name: Kane\\nCompany: Carter-Strickland\\nCity: Thomasfurt\\nCountry: Yemen\\nPhone 1: 114-854-1159x555\\nPhone 2: 499-608-4612\\nEmail: hilljesse@barrett.info\\nSubscription Date: 15-04-2021\\nWebsite: http://www.duffy-hensley.net/\\n: '), Document(metadata={'source': 'static\\\\customers1.csv', 'row': 89}, page_content='Index: 90\\nCustomer Id: 37Ec4B395641c1E\\nFirst Name: Lori\\nLast Name: Flowers\\nCompany: Decker-Mcknight\\nCity: North Joeburgh\\nCountry: Namibia\\nPhone 1: 679.415.1210\\nPhone 2: 945-842-3659x4581\\nEmail: tyrone77@valenzuela.info\\nSubscription Date: 09-01-2021\\nWebsite: http://www.deleon-crosby.com/\\n: '), Document(metadata={'source': 'static\\\\customers1.csv', 'row': 90}, page_content='Index: 91\\nCustomer Id: 5ef6d3eefdD43bE\\nFirst Name: Nina\\nLast Name: Chavez\\nCompany: Byrd-Campbell\\nCity: Cassidychester\\nCountry: Bhutan\\nPhone 1: 053-344-3205\\nPhone 2: +1-330-920-5422x571\\nEmail: elliserica@frank.com\\nSubscription Date: 26-03-2020\\nWebsite: https://www.pugh.com/\\n: '), Document(metadata={'source': 'static\\\\customers1.csv', 'row': 91}, page_content='Index: 92\\nCustomer Id: 98b3aeDcC3B9FF3\\nFirst Name: Shane\\nLast Name: Foley\\nCompany: Rocha-Hart\\nCity: South Dannymouth\\nCountry: Hungary\\nPhone 1: -1692\\nPhone 2: 001-626-114-5844x55073\\nEmail: nsteele@sparks.com\\nSubscription Date: 06-07-2021\\nWebsite: https://www.holt-sparks.com/\\n: '), Document(metadata={'source': 'static\\\\customers1.csv', 'row': 92}, page_content='Index: 93\\nCustomer Id: aAb6AFc7AfD0fF3\\nFirst Name: Collin\\nLast Name: Ayers\\nCompany: Lamb-Peterson\\nCity: South Lonnie\\nCountry: Anguilla\\nPhone 1: 404-645-5351x012\\nPhone 2: 001-257-582-8850x8516\\nEmail: dudleyemily@gonzales.biz\\nSubscription Date: 29-06-2021\\nWebsite: http://www.ruiz.com/\\n: '), Document(metadata={'source': 'static\\\\customers1.csv', 'row': 93}, page_content='Index: 94\\nCustomer Id: 54B5B5Fe9F1B6C5\\nFirst Name: Sherry\\nLast Name: Young\\nCompany: Lee, Lucero and Johnson\\nCity: Frankchester\\nCountry: Solomon Islands\\nPhone 1: 158-687-1764\\nPhone 2: (438)375-6207x003\\nEmail: alan79@gates-mclaughlin.com\\nSubscription Date: 04-04-2021\\nWebsite: https://travis.net/\\n: '), Document(metadata={'source': 'static\\\\customers1.csv', 'row': 94}, page_content='Index: 95\\nCustomer Id: BE91A0bdcA49Bbc\\nFirst Name: Darrell\\nLast Name: Douglas\\nCompany: Newton, Petersen and Mathis\\nCity: Daisyborough\\nCountry: Mali\\nPhone 1: 001-084-845-9524x1777\\nPhone 2: 001-769-564-6303\\nEmail: grayjean@lowery-good.com\\nSubscription Date: 17-02-2022\\nWebsite: https://banks.biz/\\n: '), Document(metadata={'source': 'static\\\\customers1.csv', 'row': 95}, page_content='Index: 96\\nCustomer Id: cb8E23e48d22Eae\\nFirst Name: Karl\\nLast Name: Greer\\nCompany: Carey LLC\\nCity: East Richard\\nCountry: Guyana\\nPhone 1: (188)169-1674x58692\\nPhone 2: 001-841-293-3519x614\\nEmail: hhart@jensen.com\\nSubscription Date: 30-01-2022\\nWebsite: http://hayes-perez.com/\\n: '), Document(metadata={'source': 'static\\\\customers1.csv', 'row': 96}, page_content='Index: 97\\nCustomer Id: CeD220bdAaCfaDf\\nFirst Name: Lynn\\nLast Name: Atkinson\\nCompany: Ware, Burns and Oneal\\nCity: New Bradview\\nCountry: Sri Lanka\\nPhone 1: -3769\\nPhone 2: 605.413.3198\\nEmail: vkemp@ferrell.com\\nSubscription Date: 10-07-2021\\nWebsite: https://novak-allison.com/\\n: '), Document(metadata={'source': 'static\\\\customers1.csv', 'row': 97}, page_content='Index: 98\\nCustomer Id: 28CDbC0dFe4b1Db\\nFirst Name: Fred\\nLast Name: Guerra\\nCompany: Schmitt-Jones\\nCity: Ortegaland\\nCountry: Solomon Islands\\nPhone 1: +1-753-067-8419x7170\\nPhone 2: +1-632-666-7507x92121\\nEmail: swagner@kane.org\\nSubscription Date: 18-09-2021\\nWebsite: https://www.ross.com/\\n: '), Document(metadata={'source': 'static\\\\customers1.csv', 'row': 98}, page_content='Index: 99\\nCustomer Id: c23d1D9EE8DEB0A\\nFirst Name: Yvonne\\nLast Name: Farmer\\nCompany: Fitzgerald-Harrell\\nCity: Lake Elijahview\\nCountry: Aruba\\nPhone 1: (530)311-9786\\nPhone 2: 001-869-452-0943x12424\\nEmail: mccarthystephen@horn-green.biz\\nSubscription Date: 11-08-2021\\nWebsite: http://watkins.info/\\n: '), Document(metadata={'source': 'static\\\\customers1.csv', 'row': 99}, page_content='Index: 100\\nCustomer Id: 2354a0E336A91A1\\nFirst Name: Clarence\\nLast Name: Haynes\\nCompany: Le, Nash and Cross\\nCity: Judymouth\\nCountry: Honduras\\nPhone 1: (753)813-6941\\nPhone 2: 783.639.1472\\nEmail: colleen91@faulkner.biz\\nSubscription Date: 11-03-2020\\nWebsite: http://www.hatfield-saunders.net/\\n: '), Document(metadata={'producer': 'www.ilovepdf.com', 'creator': 'Microsoft® Word 2016', 'creationdate': '2025-04-08T18:22:46+00:00', 'title': 'Rahat bhambri resume', 'author': 'Rahat Bhambri', 'subject': 'Resume', 'moddate': '2025-04-08T18:22:46+00:00', 'source': 'static\\\\RahatBhambriResume_alter.pdf', 'total_pages': 2, 'page': 0, 'page_label': '1'}, page_content='Rahat Bhambri \\n📞 +91 8289086585 | ✉️ rahatbhambri@gmail.com | 🌐 linkedin.com/in/rahatbhambri \\n \\nTECHNICAL SKILLS \\n\\uf0b7 Languages & Frameworks: Python, Golang, Java, JavaScript, Django, Flask, Vue.js, Spring Boot, Electron.js \\n\\uf0b7 Databases: MySQL, PostgreSQL, MongoDB, Redis \\n\\uf0b7 DevOps & Cloud: AWS (EC2, EMR), Kafka, Docker, Kubernetes, GitLab CI/CD, Celery \\n\\uf0b7 Data Science & AI: NLP (SpaCy, BERT), Pandas, Seaborn, Matplotlib \\n\\uf0b7 Others: PyQt5, Flask-SocketIO, Xlwings, Tableau \\n \\nPROFESSIONAL EXPERIENCE \\nFreelancer – AI Prompt Engineer         (Oct 2024 – Present) \\n\\uf0b7 Optimized AI language model by training prompts for top tier clients, which guaranteed greater response accuracy \\n(through Turing). \\n\\uf0b7 Improved AI-generated content through output evaluation and reinforcement learning based development techniques. \\nAvalara Technologies – Senior Software Engineer       (Mar 2024 – Sep 2024) \\n\\uf0b7 Integrated Kafka consumers into the GATE validator, which improved the processes to check code quality during CI/CD. \\n\\uf0b7 Improved release cycles by doing CI/CD deployment through GitLab Actions, Docker and Kubernetes. \\n\\uf0b7 Improved the coverage for Golang code in Project Pluto to reach over 80%, and addressed CI/CD pipeline issues. \\n\\uf0b7 Monitored application logs and improved debugging times with application performance metrics using Grafana Loki. \\nAlphaGrep Securities / GoMechanic – Senior Analyst (DevOps)     (Apr 2022 – Nov 2023) \\n\\uf0b7 Boosted Trade execution through development of a manual trading interface using Python and PyQt5. \\n\\uf0b7 Traded on CME, B3, and SGX exchanges by developing back-testing trade strategies and implementing them. \\n\\uf0b7 Improved the accessibility of the standalone PyQt UI by converting it into a web application with Vue.js and Flask-\\nSocketIO. \\n\\uf0b7 Automated Excel workbooks for traders using Xlwings and Flask to enhance the speed of data processing. \\n\\uf0b7 Implemented the login system for traders with OAuth 2.0 and Google authentication for increased security. \\nupGrad – Senior Associate, Product (Data & Content)      (Jan 2020 – Mar 2022) \\n\\uf0b7 Improved the engagement on the SQL lab module by improving attempt rates of learners from 33% to 80% using data \\ndriven insights \\n\\uf0b7 Helped in increasing trained modules ratings from 3.92 to 4.7 (out of 5) after the competition on telecom churn prediction \\nwhich was posted to 200+ learners on Kaggle. \\n\\uf0b7 Conducted coding sessions to train over 50 interns on basic principles of data science.  \\n \\nEDUCATION \\nB.E. Computer Engineering (8.4/10 CGPA) \\nThapar Institute of Engineering & Technology, Patiala (2016–2020) \\n\\uf0b7 JEE Mains 2016: 181/360 | JEE Advanced: AIR 17500 (GEN) \\n\\uf0b7 Class 12th: 90% | Class 10th: 10.0/10'), Document(metadata={'producer': 'www.ilovepdf.com', 'creator': 'Microsoft® Word 2016', 'creationdate': '2025-04-08T18:22:46+00:00', 'title': 'Rahat bhambri resume', 'author': 'Rahat Bhambri', 'subject': 'Resume', 'moddate': '2025-04-08T18:22:46+00:00', 'source': 'static\\\\RahatBhambriResume_alter.pdf', 'total_pages': 2, 'page': 1, 'page_label': '2'}, page_content='PROJECTS & RESEARCH               https://github.com/rahatbhambri/ \\n\\uf0b7 Searchy – AI-Powered Question Answering System: Built an NLP-based Q&A system using BERT, BS4, and Flask \\nfor real-time response generation. \\n\\uf0b7 Web Scraper & AI Training Pipeline: Developed a concurrent web scraper in Go for text extraction, later used for AI \\nmodel training. \\n\\uf0b7 Malaria Outbreak Prediction Model: Created an SVM-based predictive model, forecasting malaria outbreaks 15–20 \\ndays in advance with high accuracy. \\n \\nCERTIFICATIONS & ACHIEVEMENTS \\n\\uf0b7 AWS Certified Developer Associate  \\n\\uf0b7 500+ LeetCode Problems Solved (300+ Medium & Hard) \\n \\nEXTRACURRICULARS \\n\\uf0b7 Chess Enthusiast: Participant in online chess competitions for advanced players, specializing in strategy chess. \\n\\uf0b7 Tech Contributor: Creating and supervised Kaggle contests, helping students in AI & data science.')]\n",
      "<class 'list'> <class 'langchain_core.documents.base.Document'> 136\n",
      "384\n"
     ]
    }
   ],
   "source": [
    "data = load_docs_from_directory('./static')\n",
    "doc_list = chunk_data(docs=data)\n",
    "\n",
    "vector = embeddings.embed_query(\"any text\")\n",
    "dimension = len(vector)\n",
    "print(dimension)"
   ]
  },
  {
   "cell_type": "code",
   "execution_count": 22,
   "metadata": {},
   "outputs": [],
   "source": [
    "\n",
    "api_key=os.getenv(\"PINECONE_API_KEY\")"
   ]
  },
  {
   "cell_type": "code",
   "execution_count": 13,
   "metadata": {},
   "outputs": [],
   "source": [
    "index_name = \"lcvector\"\n",
    "\n",
    "vectorstore_from_docs = PineconeVectorStore.from_documents(\n",
    "        doc_list,\n",
    "        index_name=index_name,\n",
    "        embedding=embeddings\n",
    ")\n"
   ]
  },
  {
   "cell_type": "code",
   "execution_count": 14,
   "metadata": {},
   "outputs": [],
   "source": [
    "def retrieve_query(query, k=2):\n",
    "    matching_results = vectorstore_from_docs.similarity_search(query, k=k\n",
    "                                                               )\n",
    "    \n",
    "    print(matching_results)\n",
    "    return matching_results\n"
   ]
  },
  {
   "cell_type": "code",
   "execution_count": 34,
   "metadata": {},
   "outputs": [],
   "source": [
    "from langchain.chains.question_answering import load_qa_chain\n",
    "from langchain_community.llms import Ollama\n",
    "\n",
    "# Initialize the local LLM via Ollama\n",
    "llm = Ollama(model=\"mistral\", temperature=0.1)\n",
    "\n",
    "# Load QA chain\n",
    "chain = load_qa_chain(llm, chain_type=\"stuff\")\n",
    "\n",
    "def retreive_answers(query):\n",
    "    doc_search=retrieve_query(query)\n",
    "    response= chain.run(input_documents=doc_search, question=query) \n",
    "    return response \n",
    "\n"
   ]
  },
  {
   "cell_type": "code",
   "execution_count": 35,
   "metadata": {},
   "outputs": [
    {
     "name": "stdout",
     "output_type": "stream",
     "text": [
      "[Document(id='2005647d-0ed4-4bac-b288-da602b955b47', metadata={'source': 'static\\\\13.txt'}, page_content='An alien called Jasper landed on Planet Mars in the year 1945.\\n\\nJasper had 3 heads and 6 legs making it almost impossible for his enemy to chase it.'), Document(id='92363b22-9fe2-4483-8af0-b393ab2715a7', metadata={'source': 'static\\\\13.txt'}, page_content='An alien called Jasper landed on Planet Mars in the year 1945.\\n\\nJasper had 3 heads and 6 legs making it almost impossible for his enemy to chase it.')]\n",
      " Jasper is an alien who landed on Planet Mars in the year 1945. He has 6 legs.\n"
     ]
    }
   ],
   "source": [
    "our_query= \"Who is Jasper from Planet Mars? How many legs it had?\"\n",
    "answer=retreive_answers(our_query)\n",
    "print(answer)"
   ]
  },
  {
   "cell_type": "code",
   "execution_count": null,
   "metadata": {},
   "outputs": [],
   "source": [
    "from langchain.agents import Tool, initialize_agent, AgentType\n",
    "import random\n",
    "from datetime import datetime as dt\n",
    "\n",
    "def juggler(a, b): \n",
    "    return [random.randint(a, b) for _ in range(5)]\n",
    "\n",
    "def daysGetter(date: str) -> int:\n",
    "    \n",
    "    if \"'\" in date:\n",
    "        date = date.replace(\"'\", \"\")\n",
    "    start_date = dt.strptime(date, \"%d-%m-%Y\")\n",
    "    current_date = dt.now()\n",
    "    days_diff = (current_date - start_date).days\n",
    "    return days_diff\n",
    "    \n",
    "\n",
    "juggler_tool = Tool(name= \"Juggler\", \\\n",
    "                    func=lambda x: juggler( *map( int, x.split(\" \"))), \n",
    "                    description=\"Pass a single string arguments containing two integers which mean the range (a, b), pass like a b ; where a and b are integers\"\n",
    "                    )\n",
    "\n",
    "\n",
    "days_getter_tool = Tool(name= \"getdays\", \\\n",
    "                        func= daysGetter, \n",
    "                        description=\"Pass a single string called date and gets the time difference in days from current date\"\n",
    "                        )\n"
   ]
  },
  {
   "cell_type": "code",
   "execution_count": null,
   "metadata": {},
   "outputs": [],
   "source": [
    "import pandas as pd\n",
    "from langchain_experimental.agents import create_pandas_dataframe_agent\n",
    "# from langchain.llms import OpenAI\n",
    "\n",
    "# Step 1: Read multiple CSVs into a list of DataFrames\n",
    "csv_files = [\"./static/customers1.csv\"]\n",
    "dfs = [pd.read_csv(file) for file in csv_files]\n",
    "\n",
    "# Step 2: Concatenate all into a single DataFrame (can also merge if needed)\n",
    "combined_df = pd.concat(dfs, ignore_index=True)\n",
    "\n",
    "# Step 3: Create a Pandas agent\n",
    "pd_agent = create_pandas_dataframe_agent(llm, combined_df, verbose=True, allow_dangerous_code=True)\n",
    "\n"
   ]
  },
  {
   "cell_type": "code",
   "execution_count": 96,
   "metadata": {},
   "outputs": [],
   "source": [
    "import re\n",
    "\n",
    "def run_agent_safely(agent, query):\n",
    "    try:\n",
    "        return agent.run(query)\n",
    "    except Exception as e:\n",
    "        print(\"Caught Exception:\", str(e))\n",
    "\n",
    "        # Try to extract \"Final Answer\" from the exception string\n",
    "        match = re.search(r\"Final Answer\\s*:\\s*(.*)\", str(e), re.IGNORECASE | re.DOTALL)\n",
    "        if match:\n",
    "            extracted_answer = match.group(1).strip().split('\\n')[0]  # Grab only the first line if multiline\n",
    "            print(\"Extracted Final Answer:\", extracted_answer)\n",
    "            return extracted_answer\n",
    "        else:\n",
    "            print(\"Could not extract Final Answer from the error.\")\n",
    "            return \"An error occurred and no final answer could be recovered.\"\n"
   ]
  },
  {
   "cell_type": "code",
   "execution_count": 160,
   "metadata": {},
   "outputs": [],
   "source": [
    "pd_tool = Tool(\n",
    "    name=\"PandasData\", \n",
    "    func=pd_agent.run, \n",
    "    description= (\"Use this tool to query customer CSV data loaded into a dataframe. \"\n",
    "        \"This includes retrieving or analyzing columns such as 'Subscription Date', 'Customer ID', etc. \"\n",
    "        \"Always use this tool to interact with the customer CSV, instead of using raw Python.\"\n",
    "    )\n",
    ")"
   ]
  },
  {
   "cell_type": "code",
   "execution_count": 161,
   "metadata": {},
   "outputs": [],
   "source": [
    "agent= initialize_agent(\n",
    "    tools= [pd_tool, juggler_tool, days_getter_tool], \n",
    "    llm = llm, \n",
    "    agent=AgentType.ZERO_SHOT_REACT_DESCRIPTION, \n",
    "    verbose= True, \n",
    "    handle_parsing_errors=True\n",
    ")"
   ]
  },
  {
   "cell_type": "code",
   "execution_count": 171,
   "metadata": {},
   "outputs": [
    {
     "name": "stdout",
     "output_type": "stream",
     "text": [
      "\n",
      "\n",
      "\u001b[1m> Entering new AgentExecutor chain...\u001b[0m\n",
      "\u001b[32;1m\u001b[1;3m I need to find the number of days elapsed since a specific date. To do this, I will use the `getdays` function provided.\n",
      "\n",
      "Action: getdays\n",
      "Action Input: '20-03-1976'\u001b[0mCaught Exception: time data \"'20-03-1976'\" does not match format '%d-%m-%Y'\n",
      "Could not extract Final Answer from the error.\n",
      "An error occurred and no final answer could be recovered.\n"
     ]
    }
   ],
   "source": [
    "# Step 4: Ask your questions\n",
    "response = run_agent_safely(agent=agent, query = \"Now calculate the days from start date using daysgetter tool for date as 20-03-1976\")\n",
    "print(response)\n"
   ]
  },
  {
   "cell_type": "markdown",
   "metadata": {},
   "source": [
    "Deletion from DB code"
   ]
  },
  {
   "cell_type": "code",
   "execution_count": 172,
   "metadata": {},
   "outputs": [],
   "source": [
    "# idx = pc.Index(index_name)\n",
    "\n",
    "# # Delete all vectors from the index\n",
    "# idx.delete(delete_all=True)\n",
    "\n",
    "# print(\"All vectors have been deleted from the index.\")"
   ]
  },
  {
   "cell_type": "code",
   "execution_count": 173,
   "metadata": {},
   "outputs": [],
   "source": [
    "# idx = pc.Index(index_name)\n",
    "# pdf_path = \"static\\\\RahatBhambriResume_alter.pdf\"\n",
    "\n",
    "# idx.delete(\n",
    "#     filter={\n",
    "#         # \"source\": pdf_path\n",
    "#     }\n",
    "# )\n",
    "# print(f\"Vectors with source '{pdf_path}' have been deleted.\")\n"
   ]
  }
 ],
 "metadata": {
  "kernelspec": {
   "display_name": "rag_venv",
   "language": "python",
   "name": "python3"
  },
  "language_info": {
   "codemirror_mode": {
    "name": "ipython",
    "version": 3
   },
   "file_extension": ".py",
   "mimetype": "text/x-python",
   "name": "python",
   "nbconvert_exporter": "python",
   "pygments_lexer": "ipython3",
   "version": "3.13.0"
  }
 },
 "nbformat": 4,
 "nbformat_minor": 2
}
