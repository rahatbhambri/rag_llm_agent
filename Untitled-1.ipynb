{
 "cells": [
  {
   "cell_type": "code",
   "execution_count": 216,
   "metadata": {},
   "outputs": [],
   "source": [
    "import openai, langchain, os\n",
    "from langchain_community.document_loaders import PyPDFDirectoryLoader\n",
    "from langchain.text_splitter import RecursiveCharacterTextSplitter \n",
    "from langchain_community.embeddings import SentenceTransformerEmbeddings\n",
    "from pinecone import Pinecone, ServerlessSpec\n",
    "from langchain_pinecone import PineconeVectorStore\n",
    "from langchain_community.llms import OpenAI \n",
    "from dotenv import load_dotenv \n",
    "from sentence_transformers import SentenceTransformer  "
   ]
  },
  {
   "cell_type": "code",
   "execution_count": 217,
   "metadata": {},
   "outputs": [
    {
     "data": {
      "text/plain": [
       "False"
      ]
     },
     "execution_count": 217,
     "metadata": {},
     "output_type": "execute_result"
    }
   ],
   "source": [
    "model = SentenceTransformer('paraphrase-MiniLM-L3-v2')\n",
    "embeddings = SentenceTransformerEmbeddings(model_name='paraphrase-MiniLM-L3-v2')\n",
    "\n",
    "load_dotenv()\n"
   ]
  },
  {
   "cell_type": "code",
   "execution_count": 219,
   "metadata": {},
   "outputs": [],
   "source": [
    "from langchain.document_loaders import DirectoryLoader, TextLoader, CSVLoader, UnstructuredFileLoader\n",
    "from langchain_community.document_loaders import PyPDFLoader\n",
    "from pathlib import Path\n",
    "\n",
    "def load_docs_from_directory(path):\n",
    "    def custom_loader(file_path_str):\n",
    "        file_path = Path(file_path_str)\n",
    "        ext = file_path.suffix.lower()\n",
    "\n",
    "        loader_map = {\n",
    "            \".pdf\": PyPDFLoader,\n",
    "            \".txt\": TextLoader,\n",
    "            \".csv\": CSVLoader,\n",
    "        }\n",
    "\n",
    "        loader_cls = loader_map.get(ext, UnstructuredFileLoader)\n",
    "        return loader_cls(str(file_path))\n",
    "\n",
    "    loader = DirectoryLoader(\n",
    "        path,\n",
    "        glob=\"**/*\",\n",
    "        loader_cls=custom_loader\n",
    "    )\n",
    "    documents = loader.load()\n",
    "    print(documents)\n",
    "    return documents\n",
    "\n"
   ]
  },
  {
   "cell_type": "code",
   "execution_count": 220,
   "metadata": {},
   "outputs": [],
   "source": [
    "def chunk_data(docs, chunk_size=800, chunk_overlap=50):\n",
    "    text_spliter = RecursiveCharacterTextSplitter(chunk_size=chunk_size, chunk_overlap=chunk_overlap)\n",
    "    doc = text_spliter.split_documents(docs)\n",
    "    print(type(doc), type(doc[0]), len(doc))\n",
    "    \n",
    "    return doc\n"
   ]
  },
  {
   "cell_type": "code",
   "execution_count": 221,
   "metadata": {},
   "outputs": [
    {
     "name": "stdout",
     "output_type": "stream",
     "text": [
      "[Document(metadata={'source': 'static\\\\13.txt'}, page_content='An alien called Jasper landed on Planet Mars in the year 1945.\\n\\nJasper had 3 heads and 6 legs making it almost impossible for his enemy to chase it. \\n\\n'), Document(metadata={'source': 'static\\\\20.txt'}, page_content='During friendly encounters and bonding, tigers rub against each other\\'s bodies.[97] Facial expressions include the \"defence threat\", which involves a wrinkled face, bared teeth, pulled-back ears and widened pupils.[98][47] Both males and females show a flehmen response, a characteristic curled-lip grimace, when smelling urine markings. Males also use the flehmen to detect the markings made by tigresses in oestrus.[47] Tigers will move their ears around to display the white spots, particularly during aggressive encounters and between mothers and cubs.[99] They also use their tails to signal their mood. To show cordiality, the tail sticks up and sways slowly, while an apprehensive tiger lowers its tail or wags it side-to-side. When calm, the tail hangs low.[100]\\n\\nTigers are normally silent but can produce numerous vocalisations.[101][102] They roar to signal their presence to other individuals over long distances. This vocalisation is forced through an open mouth as it closes and can be heard 3 km (1.9 mi) away. They roar multiple times in a row and others respond in kind. Tigers also roar during mating and a mother will roar to call her cubs to her. When tense, tigers moan, a sound similar to a roar but softer and made when the mouth is at least partially closed. Moaning can be heard 400 m (1,300 ft) away.[47][103] Aggressive encounters involve growling, snarling and hissing.[104] An explosive \"coughing roar\" or \"coughing snarl\" is emitted through an open mouth and exposed teeth.[47][104][99] In friendlier situations, tigers prusten, a soft, low-frequency snorting sound similar to purring in smaller cats.[105] Tiger mothers communicate with their cubs by grunting, while cubs call back with miaows.[106] When startled, they \"woof\". They produce a deer-like \"pok\" sound for unknown reasons, but most often at kills.[107][108]\\n\\nHunting and diet\\nTiger attacking a sambar deer from behind, pulling on its back\\nBengal tiger attacking a sambar deer in Ranthambore Tiger Reserve\\nThe tiger is a carnivore and an apex predator feeding mainly on large and medium-sized ungulates, with a preference for sambar deer, Manchurian wapiti, barasingha, gaur and wild boar.[109][110][111] Abundance and body weight of prey species are assumed to be the main criteria for the tiger\\'s prey selection, both inside and outside protected areas.[112] It also preys opportunistically on smaller species like monkeys, peafowl and other ground-based birds, porcupines and fish.[47][57] Occasional attacks on Asian elephants and Indian rhinoceroses have also been reported.[113] More often, tigers take the more vulnerable calves.[114] They sometimes prey on livestock and dogs in close proximity to settlements.[47] Tigers occasionally consume vegetation, fruit and minerals for dietary fibre and supplements.[115]\\n\\nTigers learn to hunt from their mothers, though the ability to hunt may be partially inborn.[116] Depending on the size of the prey, they typically kill weekly though mothers must kill more often.[54] Families hunt together when cubs are old enough.[117] They search for prey using vision and hearing.[118] A tiger will also wait at a watering hole for prey to come by, particularly during hot summer days.[119][120] It is an ambush predator and when approaching potential prey, it crouches with the head lowered and hides in foliage. It switches between creeping forward and staying still. A tiger may even doze off and can stay in the same spot for as long as a day, waiting for prey and launch an attack when the prey is close enough,[121] usually within 30 m (98 ft).[54] If the prey spots it before then, the cat does not pursue further.[119] A tiger can sprint 56 km/h (35 mph) and leap 10 m (33 ft);[122][123] it is not a long-distance runner and gives up a chase if prey outpaces it over a certain distance.[119]\\n\\nTwo tigers attacking a boar\\nTwo Bengal tigers attacking a wild boar in Kanha Tiger Reserve\\nThe tiger attacks from behind or at the sides and tries to knock the target off balance. It latches onto prey with its forelimbs, twisting and turning during the struggle and tries to pull it to the ground. The tiger generally applies a bite to the throat until its victim dies of strangulation.[47][124][125][126] It has an average bite force at the canine tips of 1234.3 newtons.[127] Holding onto the throat puts the cat out of reach of horns, antlers, tusks and hooves.[124][128] Tigers are adaptable killers and may use other methods, including ripping the throat or breaking the neck. Large prey may be disabled by a bite to the back of the hock, severing the tendon. Swipes from the large paws are capable of stunning or breaking the skull of a water buffalo.[129] They kill small prey with a bite to the back of the neck or head.[130][54] Estimates of the success rate for hunting tigers range from a low of 5% to a high of 50%. They are sometimes killed or injured by large or dangerous prey like gaur, buffalo and boar.[54]\\n\\nTigers typically move kills to a private, usually vegetated spot no further than 183 m (600 ft), though they have been recorded dragging them 549 m (1,801 ft). They are strong enough to drag the carcass of a fully grown buffalo for some distance. They rest for a while before eating and can consume as much as 50 kg (110 lb) of meat in one session, but feed on a carcass for several days, leaving little for scavengers.[131]\\n\\nCompetitors\\nPainting of dhole pack attacking a tiger\\nAn 1807 illustration of dholes attacking a tiger\\nIn much of their range, tigers share habitat with leopards and dholes. They typically dominate both of them, though with dholes it depends on their pack size. Interactions between the three predators involve chasing, stealing kills and direct killing.[132] Large dhole packs may kill tigers.[133] Tigers, leopards and dholes coexist by hunting different sized prey.[134] In Nagarhole National Park, the average weight for tiger kills was found to be 91.5 kg (202 lb), compared to 37.6 kg (83 lb) for leopards and 43.4 kg (96 lb) for dholes.[135] In Kui Buri National Park, following a reduction in prey numbers, tigers continued to kill favoured prey while leopards and dholes increased their consumption of small prey.[110]\\n\\nBoth leopards and dholes can live successfully in tiger habitat when there is abundant food and vegetation cover.[134][136] Otherwise, they appear to be less common where tigers are numerous. The recovery of the tiger population in Rajaji National Park during the 2000s led to a reduction in leopard population densities.[137] Similarly, at two sites in central India the size of dhole packs was negatively correlated with tiger densities.[138] Leopard and dhole distribution in Kui Buri correlated with both prey access and tiger scarcity.[139] In Jigme Dorji National Park, tigers were found to inhabit the deeper parts of forests while the smaller predators were pushed closer to the fringes.[140]\\n\\nReproduction and life cycle\\n\"Tiger cub\" redirects here. For other uses, see Tiger Cub.\\nTiger with cubs\\nA Bengal tiger family in Kanha Tiger Reserve\\nThe tiger generally mates all year round, particularly between November and April. A tigress is in oestrus for three to six days at a time, separated by three to nine week intervals.[47] A resident male mates with all the females within his home range, who signal their receptiveness by roaring and marking.[141][142] Younger, transient males are also attracted, leading to a fight in which the more dominant, resident male drives the usurper off.[143][141] During courtship, the male is cautious with the female as he waits for her to show signs she is ready to mate. She signals to him by positioning herself in lordosis with her tail to the side. Copulation typically lasts no more than 20 seconds, with the male biting the female by the scruff of her neck. After it is finished, the male quickly pulls away as the female may turn and slap him.[141] Tiger pairs may stay together for up to four days and mate multiple times.[144] Gestation lasts around or over three months.[47]\\n\\nA tigress gives birth in a secluded location, be it in dense vegetation, in a cave or under a rocky shelter.[145] Litters consist of as many as seven cubs, but two or three are more typical.[143][145] Newborn cubs weigh 785â€“1,610 g (27.7â€“56.8 oz) and are blind and altricial.[145] The mother licks and cleans her cubs, suckles them and viciously defends them from any potential threat.[143] Cubs open their eyes at the age of three to 14 days and their vision becomes clear after a few more weeks.[145] They can leave the denning site after two months and around the same time they start eating meat.[143][146] The mother only leaves them alone to hunt and even then she does not travel far.[147] When she suspects an area is no longer safe, she moves her cubs to a new spot, transporting them one by one by grabbing them by the scruff of the neck with her mouth.[148] A tigress in Sikhote-Alin Biosphere Reserve maximised the time spent with her cubs by reducing her home range, killing larger prey and returning to her den more rapidly than without cubs; when the cubs started to eat meat, she took them to kill sites, thereby optimising their protection and access to food.[149] In the same reserve, one of 21 cubs died in over eight years of monitoring and mortality did not differ between male and female juveniles.[150] Tiger monitoring over six years in Ranthambore Tiger Reserve indicated an average annual survival rate of around 85 percent for 74 male and female cubs; survival rate increased to 97 percent for both males and female juveniles of one to two years of age.[151] Causes of cub mortality include predators, floods, fires, death of the mother and fatal injuries.[148][152][153][151]\\n\\nTigress with cub in snow\\nA Siberian tigress with her cub at Buffalo Zoo\\nAfter around two months, the cubs are able to follow their mother. They still hide in vegetation when she goes hunting. Young bond through play fighting and practice stalking. A hierarchy develops in the litter, with the biggest cub, often a male, being the most dominant and the first to eat its fill at a kill.[154] Around the age of six months, cubs are fully weaned and have more freedom to explore their environment. Between eight and ten months, they accompany their mother on hunts.[117] A cub can make a kill as early as 11 months and reach independence as a juvenile of 18 to 24 months of age; males become independent earlier than females.[155][151] Radio-collared tigers in Chitwan started leaving their natal areas at the age of 19 months.[89] Young females are sexually mature at three to four years, whereas males are at four to five years.[47] Generation length of the tiger is about 7â€“10 years.[156] Wild Bengal tigers live 12â€“15 years.[157] Data from the International Tiger Studbook 1938â€“2018 indicate that captive tigers lived up to 19 years.[158]\\n\\nThe father does not play a role in raising the young, but he encounters and interacts with them. The resident male appears to visit the femaleâ€“cub families within his home range. They socialise and even share kills.[159][160] One male was recorded looking after cubs whose mother had died.[161] By defending his home range, the male protects the females and cubs from other males.[162] When a new male takes over, dependent cubs are at risk of infanticide as the male attempts to sire his own young with the females.[163] A seven-year long study in Chitwan National Park revealed that 12 of 56 detected cubs and juveniles were killed by new males taking over home ranges.[153]\\n\\nHealth and diseases\\nTigers are recorded as hosts for various parasites including tapeworms like Diphyllobothrium erinacei, Taenia pisiformis in India and nematodes like Toxocara species in India and Physaloptera preputialis, Dirofilaria ursi and Uiteinarta species in Siberia.[47] Canine distemper is known to occur in Siberian tigers.[164] A morbillivirus infection was the likely cause of death of a tigress in the Russian Far East that was also tested positive for feline panleukopenia and feline coronavirus.[165] Blood samples from 11 adult tigers in Nepal showed antibodies for canine parvovirus-2, feline herpesvirus, feline coronavirus, leptospirosis and Toxoplasma gondii.[166]\\n\\nThreats\\nThe tiger has been listed as Endangered on the IUCN Red List since 1986 and the global tiger population is thought to have continuously declined from an estimated population of 5,000â€“8,262 tigers in the late 1990s to 3,726â€“5,578 individuals estimated as of 2022.[1] During 2001â€“2020, landscapes where tigers live declined from 1,025,488 km2 (395,943 sq mi) to 911,901 km2 (352,087 sq mi).[65] Habitat destruction, habitat fragmentation and poaching for fur and body parts are the major threats that contributed to the decrease of tiger populations in all range countries.[1]\\n\\nProtected areas in central India are highly fragmented due to linear infrastructure like roads, railway lines, transmission lines, irrigation channels and mining activities in their vicinity.[167] In the Tanintharyi Region of southern Myanmar, deforestation coupled with mining activities and high hunting pressure threatens the tiger population.[168] In Thailand, nine of 15 protected areas hosting tigers are isolated and fragmented, offering a low probability for dispersal between them; four of these have not harboured tigers since about 2013.[169] In Peninsular Malaysia, 8,315.7 km2 (3,210.7 sq mi) of tiger habitat was cleared during 1988â€“2012, most of it for industrial plantations.[170] Large-scale land acquisitions of about 23,000 km2 (8,900 sq mi) for commercial agriculture and timber extraction in Cambodia contributed to the fragmentation of potential tiger habitat, especially in the Eastern Plains.[171] Inbreeding depression coupled with habitat destruction, insufficient prey resources and poaching is a threat to the small and isolated tiger population in the Changbai Mountains along the Chinaâ€“Russia border.[172] In China, tigers became the target of large-scale \\'anti-pest\\' campaigns in the early 1950s, where suitable habitats were fragmented following deforestation and resettlement of people to rural areas, who hunted tigers and prey species. Though tiger hunting was prohibited in 1977, the population continued to decline and is considered extinct in South China since 2001.[173][174]'), Document(metadata={'producer': 'www.ilovepdf.com', 'creator': 'Microsoft® Word 2016', 'creationdate': '2025-04-08T18:22:46+00:00', 'title': 'Rahat bhambri resume', 'author': 'Rahat Bhambri', 'subject': 'Resume', 'moddate': '2025-04-08T18:22:46+00:00', 'source': 'static\\\\RahatBhambriResume_alter.pdf', 'total_pages': 2, 'page': 0, 'page_label': '1'}, page_content='Rahat Bhambri \\n📞 +91 8289086585 | ✉️ rahatbhambri@gmail.com | 🌐 linkedin.com/in/rahatbhambri \\n \\nTECHNICAL SKILLS \\n\\uf0b7 Languages & Frameworks: Python, Golang, Java, JavaScript, Django, Flask, Vue.js, Spring Boot, Electron.js \\n\\uf0b7 Databases: MySQL, PostgreSQL, MongoDB, Redis \\n\\uf0b7 DevOps & Cloud: AWS (EC2, EMR), Kafka, Docker, Kubernetes, GitLab CI/CD, Celery \\n\\uf0b7 Data Science & AI: NLP (SpaCy, BERT), Pandas, Seaborn, Matplotlib \\n\\uf0b7 Others: PyQt5, Flask-SocketIO, Xlwings, Tableau \\n \\nPROFESSIONAL EXPERIENCE \\nFreelancer – AI Prompt Engineer         (Oct 2024 – Present) \\n\\uf0b7 Optimized AI language model by training prompts for top tier clients, which guaranteed greater response accuracy \\n(through Turing). \\n\\uf0b7 Improved AI-generated content through output evaluation and reinforcement learning based development techniques. \\nAvalara Technologies – Senior Software Engineer       (Mar 2024 – Sep 2024) \\n\\uf0b7 Integrated Kafka consumers into the GATE validator, which improved the processes to check code quality during CI/CD. \\n\\uf0b7 Improved release cycles by doing CI/CD deployment through GitLab Actions, Docker and Kubernetes. \\n\\uf0b7 Improved the coverage for Golang code in Project Pluto to reach over 80%, and addressed CI/CD pipeline issues. \\n\\uf0b7 Monitored application logs and improved debugging times with application performance metrics using Grafana Loki. \\nAlphaGrep Securities / GoMechanic – Senior Analyst (DevOps)     (Apr 2022 – Nov 2023) \\n\\uf0b7 Boosted Trade execution through development of a manual trading interface using Python and PyQt5. \\n\\uf0b7 Traded on CME, B3, and SGX exchanges by developing back-testing trade strategies and implementing them. \\n\\uf0b7 Improved the accessibility of the standalone PyQt UI by converting it into a web application with Vue.js and Flask-\\nSocketIO. \\n\\uf0b7 Automated Excel workbooks for traders using Xlwings and Flask to enhance the speed of data processing. \\n\\uf0b7 Implemented the login system for traders with OAuth 2.0 and Google authentication for increased security. \\nupGrad – Senior Associate, Product (Data & Content)      (Jan 2020 – Mar 2022) \\n\\uf0b7 Improved the engagement on the SQL lab module by improving attempt rates of learners from 33% to 80% using data \\ndriven insights \\n\\uf0b7 Helped in increasing trained modules ratings from 3.92 to 4.7 (out of 5) after the competition on telecom churn prediction \\nwhich was posted to 200+ learners on Kaggle. \\n\\uf0b7 Conducted coding sessions to train over 50 interns on basic principles of data science.  \\n \\nEDUCATION \\nB.E. Computer Engineering (8.4/10 CGPA) \\nThapar Institute of Engineering & Technology, Patiala (2016–2020) \\n\\uf0b7 JEE Mains 2016: 181/360 | JEE Advanced: AIR 17500 (GEN) \\n\\uf0b7 Class 12th: 90% | Class 10th: 10.0/10'), Document(metadata={'producer': 'www.ilovepdf.com', 'creator': 'Microsoft® Word 2016', 'creationdate': '2025-04-08T18:22:46+00:00', 'title': 'Rahat bhambri resume', 'author': 'Rahat Bhambri', 'subject': 'Resume', 'moddate': '2025-04-08T18:22:46+00:00', 'source': 'static\\\\RahatBhambriResume_alter.pdf', 'total_pages': 2, 'page': 1, 'page_label': '2'}, page_content='PROJECTS & RESEARCH               https://github.com/rahatbhambri/ \\n\\uf0b7 Searchy – AI-Powered Question Answering System: Built an NLP-based Q&A system using BERT, BS4, and Flask \\nfor real-time response generation. \\n\\uf0b7 Web Scraper & AI Training Pipeline: Developed a concurrent web scraper in Go for text extraction, later used for AI \\nmodel training. \\n\\uf0b7 Malaria Outbreak Prediction Model: Created an SVM-based predictive model, forecasting malaria outbreaks 15–20 \\ndays in advance with high accuracy. \\n \\nCERTIFICATIONS & ACHIEVEMENTS \\n\\uf0b7 AWS Certified Developer Associate  \\n\\uf0b7 500+ LeetCode Problems Solved (300+ Medium & Hard) \\n \\nEXTRACURRICULARS \\n\\uf0b7 Chess Enthusiast: Participant in online chess competitions for advanced players, specializing in strategy chess. \\n\\uf0b7 Tech Contributor: Creating and supervised Kaggle contests, helping students in AI & data science.')]\n",
      "<class 'list'> <class 'langchain_core.documents.base.Document'> 36\n",
      "384\n"
     ]
    }
   ],
   "source": [
    "data = load_docs_from_directory('./static')\n",
    "doc_list = chunk_data(docs=data)\n",
    "\n",
    "vector = embeddings.embed_query(\"any text\")\n",
    "dimension = len(vector)\n",
    "print(dimension)"
   ]
  },
  {
   "cell_type": "code",
   "execution_count": null,
   "metadata": {},
   "outputs": [
    {
     "name": "stdout",
     "output_type": "stream",
     "text": [
      "pcsk_6R8ytv_37LPKM55quM3i51HJX3EpchECJW1e67Y8Utp9PP9xGBn1btMDCY9gy9MGLuWVK5\n"
     ]
    }
   ],
   "source": [
    "api_key=os.getenv(\"PINECONE_API_KEY\")"
   ]
  },
  {
   "cell_type": "code",
   "execution_count": 223,
   "metadata": {},
   "outputs": [],
   "source": [
    "index_name = \"lcvector\"\n",
    "\n",
    "vectorstore_from_docs = PineconeVectorStore.from_documents(\n",
    "        doc_list,\n",
    "        index_name=index_name,\n",
    "        embedding=embeddings\n",
    ")\n"
   ]
  },
  {
   "cell_type": "code",
   "execution_count": 224,
   "metadata": {},
   "outputs": [],
   "source": [
    "def retrieve_query(query, k=2):\n",
    "    matching_results = vectorstore_from_docs.similarity_search(query, k=k\n",
    "                                                               )\n",
    "    \n",
    "    print(matching_results)\n",
    "    return matching_results\n"
   ]
  },
  {
   "cell_type": "code",
   "execution_count": 225,
   "metadata": {},
   "outputs": [],
   "source": [
    "from langchain.chains.question_answering import load_qa_chain\n",
    "from langchain_community.llms import Ollama\n",
    "\n",
    "# Initialize the local LLM via Ollama\n",
    "llm = Ollama(model=\"mistral\", temperature=0.1)\n",
    "\n",
    "# Load QA chain\n",
    "chain = load_qa_chain(llm, chain_type=\"stuff\")\n",
    "\n",
    "def retreive_answers(query):\n",
    "    doc_search=retrieve_query(query)\n",
    "    response= chain.run(input_documents=doc_search, question=query) \n",
    "    return response \n",
    "\n"
   ]
  },
  {
   "cell_type": "code",
   "execution_count": 226,
   "metadata": {},
   "outputs": [
    {
     "name": "stdout",
     "output_type": "stream",
     "text": [
      "[Document(id='b77818cc-3733-4ad6-90df-95f1a1dcf128', metadata={'source': 'static\\\\13.txt'}, page_content='An alien called Jasper landed on Planet Mars in the year 1945.\\n\\nJasper had 3 heads and 6 legs making it almost impossible for his enemy to chase it.'), Document(id='2005647d-0ed4-4bac-b288-da602b955b47', metadata={'source': 'static\\\\13.txt'}, page_content='An alien called Jasper landed on Planet Mars in the year 1945.\\n\\nJasper had 3 heads and 6 legs making it almost impossible for his enemy to chase it.')]\n",
      " Jasper is an alien who landed on Planet Mars in the year 1945. He has 6 legs.\n"
     ]
    }
   ],
   "source": [
    "our_query= \"Who is Jasper from Planet Mars? How many legs it had?\"\n",
    "answer=retreive_answers(our_query)\n",
    "print(answer)"
   ]
  },
  {
   "cell_type": "markdown",
   "metadata": {},
   "source": [
    "Deletion from DB code"
   ]
  },
  {
   "cell_type": "code",
   "execution_count": 227,
   "metadata": {},
   "outputs": [],
   "source": [
    "# idx = pc.Index(index_name)\n",
    "\n",
    "# # Delete all vectors from the index\n",
    "# idx.delete(delete_all=True)\n",
    "\n",
    "# print(\"All vectors have been deleted from the index.\")"
   ]
  },
  {
   "cell_type": "code",
   "execution_count": 228,
   "metadata": {},
   "outputs": [],
   "source": [
    "# idx = pc.Index(index_name)\n",
    "# pdf_path = \"static\\\\RahatBhambriResume_alter.pdf\"\n",
    "\n",
    "# idx.delete(\n",
    "#     filter={\n",
    "#         # \"source\": pdf_path\n",
    "#     }\n",
    "# )\n",
    "# print(f\"Vectors with source '{pdf_path}' have been deleted.\")\n"
   ]
  }
 ],
 "metadata": {
  "kernelspec": {
   "display_name": "rag_venv",
   "language": "python",
   "name": "python3"
  },
  "language_info": {
   "codemirror_mode": {
    "name": "ipython",
    "version": 3
   },
   "file_extension": ".py",
   "mimetype": "text/x-python",
   "name": "python",
   "nbconvert_exporter": "python",
   "pygments_lexer": "ipython3",
   "version": "3.13.0"
  }
 },
 "nbformat": 4,
 "nbformat_minor": 2
}
