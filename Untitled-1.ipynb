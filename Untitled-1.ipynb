{
 "cells": [
  {
   "cell_type": "code",
   "execution_count": 49,
   "metadata": {},
   "outputs": [],
   "source": [
    "import openai, langchain, os\n",
    "from langchain_community.document_loaders import PyPDFDirectoryLoader\n",
    "from langchain.text_splitter import RecursiveCharacterTextSplitter \n",
    "from langchain_community.embeddings import SentenceTransformerEmbeddings\n",
    "from pinecone import Pinecone, ServerlessSpec\n",
    "from langchain_pinecone import PineconeVectorStore\n",
    "from langchain_community.llms import OpenAI \n",
    "from dotenv import load_dotenv \n",
    "from sentence_transformers import SentenceTransformer  "
   ]
  },
  {
   "cell_type": "code",
   "execution_count": 50,
   "metadata": {},
   "outputs": [
    {
     "data": {
      "text/plain": [
       "False"
      ]
     },
     "execution_count": 50,
     "metadata": {},
     "output_type": "execute_result"
    }
   ],
   "source": [
    "model = SentenceTransformer('paraphrase-MiniLM-L3-v2')\n",
    "embeddings = SentenceTransformerEmbeddings(model_name='paraphrase-MiniLM-L3-v2')\n",
    "\n",
    "load_dotenv()\n"
   ]
  },
  {
   "cell_type": "code",
   "execution_count": 51,
   "metadata": {},
   "outputs": [],
   "source": [
    "\n",
    "def read_pdf(path): \n",
    "    file_loader = PyPDFDirectoryLoader(path)\n",
    "    documents = file_loader.load() \n",
    "    return documents"
   ]
  },
  {
   "cell_type": "code",
   "execution_count": 52,
   "metadata": {},
   "outputs": [],
   "source": [
    "def chunk_data(docs, chunk_size=800, chunk_overlap=50):\n",
    "    text_spliter = RecursiveCharacterTextSplitter(chunk_size=chunk_size, chunk_overlap=chunk_overlap)\n",
    "    doc = text_spliter.split_documents(docs)\n",
    "    print(type(doc), type(doc[0]), len(doc))\n",
    "    \n",
    "    return doc\n"
   ]
  },
  {
   "cell_type": "code",
   "execution_count": 53,
   "metadata": {},
   "outputs": [
    {
     "name": "stdout",
     "output_type": "stream",
     "text": [
      "<class 'list'> <class 'langchain_core.documents.base.Document'> 6\n",
      "384\n"
     ]
    }
   ],
   "source": [
    "data = read_pdf('./static')\n",
    "doc_list = chunk_data(docs=data)\n",
    "\n",
    "vector = embeddings.embed_query(\"any text\")\n",
    "dimension = len(vector)\n",
    "print(dimension)"
   ]
  },
  {
   "cell_type": "code",
   "execution_count": null,
   "metadata": {},
   "outputs": [],
   "source": [
    "api_key=\"\"\n",
    "os.environ[\"PINECONE_API_KEY\"] = api_key\n",
    "pc = Pinecone(api_key=api_key)"
   ]
  },
  {
   "cell_type": "code",
   "execution_count": 55,
   "metadata": {},
   "outputs": [],
   "source": [
    "index_name = \"lcvector\"\n",
    "\n",
    "vectorstore_from_docs = PineconeVectorStore.from_documents(\n",
    "        doc_list,\n",
    "        index_name=index_name,\n",
    "        embedding=embeddings\n",
    ")\n"
   ]
  },
  {
   "cell_type": "code",
   "execution_count": 56,
   "metadata": {},
   "outputs": [],
   "source": [
    "def retrieve_query(query, k=2):\n",
    "    matching_results = vectorstore_from_docs.similarity_search(query, k=k\n",
    "                                                               )\n",
    "    return matching_results\n"
   ]
  },
  {
   "cell_type": "code",
   "execution_count": 57,
   "metadata": {},
   "outputs": [],
   "source": [
    "from langchain.chains.question_answering import load_qa_chain\n",
    "from langchain_community.llms import Ollama\n",
    "\n",
    "# Initialize the local LLM via Ollama\n",
    "llm = Ollama(model=\"mistral\", temperature=0.1)\n",
    "\n",
    "# Load QA chain\n",
    "chain = load_qa_chain(llm, chain_type=\"stuff\")\n",
    "\n",
    "def retreive_answers(query):\n",
    "    doc_search=retrieve_query(query)\n",
    "    response= chain.run(input_documents=doc_search, question=query) \n",
    "    return response \n",
    "\n"
   ]
  },
  {
   "cell_type": "code",
   "execution_count": 58,
   "metadata": {},
   "outputs": [
    {
     "name": "stdout",
     "output_type": "stream",
     "text": [
      " I don't have information about the specific college or degree that Rahat Bhambri attended. The provided context only mentions their professional skills and experience, not their educational background.\n"
     ]
    }
   ],
   "source": [
    "our_query= \"Which college and degree did Rahat go to?\"\n",
    "answer=retreive_answers(our_query)\n",
    "print(answer)"
   ]
  },
  {
   "cell_type": "code",
   "execution_count": 59,
   "metadata": {},
   "outputs": [],
   "source": [
    "# idx = pc.Index(index_name)\n",
    "# pdf_path = \"static\\\\RahatBhambriResume_alter.pdf\"\n",
    "\n",
    "# idx.delete(\n",
    "#     filter={\n",
    "#         \"source\": pdf_path\n",
    "#     }\n",
    "# )\n",
    "# print(f\"Vectors with source '{pdf_path}' have been deleted.\")\n"
   ]
  }
 ],
 "metadata": {
  "kernelspec": {
   "display_name": "rag_venv",
   "language": "python",
   "name": "python3"
  },
  "language_info": {
   "codemirror_mode": {
    "name": "ipython",
    "version": 3
   },
   "file_extension": ".py",
   "mimetype": "text/x-python",
   "name": "python",
   "nbconvert_exporter": "python",
   "pygments_lexer": "ipython3",
   "version": "3.13.0"
  }
 },
 "nbformat": 4,
 "nbformat_minor": 2
}
